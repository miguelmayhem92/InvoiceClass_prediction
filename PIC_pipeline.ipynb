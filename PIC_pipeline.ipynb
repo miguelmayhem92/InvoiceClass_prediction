{
 "cells": [
  {
   "cell_type": "markdown",
   "metadata": {},
   "source": [
    "# Product Invoice Classification"
   ]
  },
  {
   "cell_type": "markdown",
   "metadata": {},
   "source": [
    "* Inv_ID (Invoice ID) : Unique number representing Invoice created by supplier/vendor\n",
    "\n",
    "* Vendor Code (Vendor ID) : Unique number representing Vendor/Seller in the procurement system\n",
    "\n",
    "* GL_Code: Account’s Reference ID\n",
    "\n",
    "* Inv_Amt : Invoice Amount\n",
    "\n",
    "* Item Description : Description of Item Purchased Example: “Corporate Services Human Resources Contingent Labor/Temp Labor Contingent Labor/Temp Labor”\n",
    "\n",
    "* Product Category : Category of Product for which Invoice is raised A pseudo product category is represented in the dataset as CLASS-???, where ? is a digit.* "
   ]
  },
  {
   "cell_type": "markdown",
   "metadata": {},
   "source": [
    "## Imports"
   ]
  },
  {
   "cell_type": "code",
   "execution_count": 1,
   "metadata": {},
   "outputs": [],
   "source": [
    "import pandas as pd\n",
    "import numpy as np"
   ]
  },
  {
   "cell_type": "code",
   "execution_count": 2,
   "metadata": {},
   "outputs": [],
   "source": [
    "# for saving the pipeline\n",
    "import joblib"
   ]
  },
  {
   "cell_type": "code",
   "execution_count": 3,
   "metadata": {},
   "outputs": [],
   "source": [
    "from sklearn.model_selection import train_test_split"
   ]
  },
  {
   "cell_type": "code",
   "execution_count": 4,
   "metadata": {},
   "outputs": [],
   "source": [
    "from sklearn.neighbors import KNeighborsClassifier"
   ]
  },
  {
   "cell_type": "code",
   "execution_count": 5,
   "metadata": {},
   "outputs": [],
   "source": [
    "from sklearn.pipeline import Pipeline"
   ]
  },
  {
   "cell_type": "code",
   "execution_count": 6,
   "metadata": {},
   "outputs": [],
   "source": [
    "from sklearn.base import BaseEstimator, TransformerMixin"
   ]
  },
  {
   "cell_type": "code",
   "execution_count": 7,
   "metadata": {},
   "outputs": [],
   "source": [
    "from feature_engine.encoding import OrdinalEncoder\n",
    "from feature_engine.selection import DropFeatures"
   ]
  },
  {
   "cell_type": "markdown",
   "metadata": {},
   "source": [
    "## Data"
   ]
  },
  {
   "cell_type": "code",
   "execution_count": 49,
   "metadata": {},
   "outputs": [],
   "source": [
    "train_data = pd.read_csv('Train.csv')\n",
    "test_data = pd.read_csv('Test.csv')\n",
    "sample_submission_data = pd.read_csv('sample_submission.csv')"
   ]
  },
  {
   "cell_type": "markdown",
   "metadata": {},
   "source": [
    "## Transformations"
   ]
  },
  {
   "cell_type": "code",
   "execution_count": 9,
   "metadata": {},
   "outputs": [],
   "source": [
    "## map for the target\n",
    "tmp = train_data.groupby('Product_Category', as_index = False).agg(counts = ('Inv_Id','count')).sort_values('counts')\n",
    "tmp['ranks'] = range(1,len(tmp)+1)\n",
    "map_target = dict(tmp[['Product_Category','ranks']].values)"
   ]
  },
  {
   "cell_type": "code",
   "execution_count": 10,
   "metadata": {},
   "outputs": [],
   "source": [
    "train_data['Map_Product_Category'] = train_data.Product_Category.map(map_target)"
   ]
  },
  {
   "cell_type": "code",
   "execution_count": 11,
   "metadata": {},
   "outputs": [],
   "source": [
    "def splitter(data):\n",
    "    data[['TypeEnt','TypeEnt_number']] = data.Vendor_Code.str.split('-',expand=True)\n",
    "    data[['GCL','GCL_number']] = data.GL_Code.str.split('-',expand=True)\n",
    "    return data"
   ]
  },
  {
   "cell_type": "code",
   "execution_count": 12,
   "metadata": {},
   "outputs": [],
   "source": [
    "train_data = splitter(data = train_data)"
   ]
  },
  {
   "cell_type": "markdown",
   "metadata": {},
   "source": [
    "###  split data"
   ]
  },
  {
   "cell_type": "code",
   "execution_count": 13,
   "metadata": {},
   "outputs": [],
   "source": [
    "seed = 12"
   ]
  },
  {
   "cell_type": "code",
   "execution_count": 14,
   "metadata": {},
   "outputs": [],
   "source": [
    "X = train_data[['Inv_Id', 'Vendor_Code', 'GL_Code', 'Inv_Amt', 'Item_Description']]\n",
    "y = train_data.Map_Product_Category"
   ]
  },
  {
   "cell_type": "code",
   "execution_count": 15,
   "metadata": {},
   "outputs": [],
   "source": [
    "X_train, X_val, y_train, y_val = train_test_split(X, y, test_size=0.33, random_state=seed)"
   ]
  },
  {
   "cell_type": "markdown",
   "metadata": {},
   "source": [
    "### Pipeline"
   ]
  },
  {
   "cell_type": "markdown",
   "metadata": {},
   "source": [
    "<b> expanding"
   ]
  },
  {
   "cell_type": "code",
   "execution_count": 16,
   "metadata": {},
   "outputs": [],
   "source": [
    "X_train = splitter(data = X_train)"
   ]
  },
  {
   "cell_type": "markdown",
   "metadata": {},
   "source": [
    "<b> maps"
   ]
  },
  {
   "cell_type": "code",
   "execution_count": 17,
   "metadata": {},
   "outputs": [],
   "source": [
    "def get_dictionary_rank1_tomap(data, variable):\n",
    "    tmp = data.groupby([variable,'Map_Product_Category'], as_index = False).agg(counts = ('Inv_Id','count'))\n",
    "    tmp[\"Rank\"] = tmp.groupby([variable])[\"counts\"].rank(\"dense\", ascending=False)\n",
    "    tmp = tmp[tmp.Rank == 1]\n",
    "    map_rank =  dict(tmp[[variable,'Map_Product_Category']].values)\n",
    "    return map_rank"
   ]
  },
  {
   "cell_type": "code",
   "execution_count": 18,
   "metadata": {},
   "outputs": [],
   "source": [
    "TypeEnt_number_maps = get_dictionary_rank1_tomap(data = train_data, variable = 'TypeEnt_number')"
   ]
  },
  {
   "cell_type": "code",
   "execution_count": 19,
   "metadata": {},
   "outputs": [],
   "source": [
    "# categorical missing value imputer\n",
    "class Mapper(BaseEstimator, TransformerMixin):\n",
    "\n",
    "    def __init__(self, variables, mappings):\n",
    "\n",
    "        if not isinstance(variables, list):\n",
    "            raise ValueError('variables should be a list')\n",
    "\n",
    "        self.variables = variables\n",
    "        self.mappings = mappings\n",
    "\n",
    "    def fit(self, X, y=None):\n",
    "        # we need the fit statement to accomodate the sklearn pipeline\n",
    "        return self\n",
    "\n",
    "    def transform(self, X):\n",
    "        X = X.copy()\n",
    "        for feature in self.variables:\n",
    "            X[feature] = X[feature].map(self.mappings)\n",
    "\n",
    "        return X"
   ]
  },
  {
   "cell_type": "code",
   "execution_count": 81,
   "metadata": {},
   "outputs": [],
   "source": [
    "class Custom_Fillna(BaseEstimator, TransformerMixin):\n",
    "    \n",
    "    def __init__(self, variables, fill_value):\n",
    "        \n",
    "        if not isinstance(variables, list):\n",
    "            raise ValueError('variables should be a list')\n",
    "            \n",
    "        self.variables = variables\n",
    "        self.fill_value = fill_value\n",
    "        \n",
    "    def fit(self, X, y=None):\n",
    "        # we need the fit statement to accomodate the sklearn pipeline\n",
    "        return self\n",
    "\n",
    "    def transform(self, X):\n",
    "        X = X.copy()\n",
    "        for feature in self.variables:\n",
    "            X[feature] = X[feature].fillna(self.fill_value)\n",
    "\n",
    "        return X"
   ]
  },
  {
   "cell_type": "code",
   "execution_count": 82,
   "metadata": {},
   "outputs": [],
   "source": [
    "to_drop = ['Inv_Id','Vendor_Code','GL_Code', 'Item_Description','TypeEnt','GCL']"
   ]
  },
  {
   "cell_type": "code",
   "execution_count": null,
   "metadata": {},
   "outputs": [],
   "source": []
  },
  {
   "cell_type": "code",
   "execution_count": 83,
   "metadata": {},
   "outputs": [],
   "source": [
    "category_prediction_pipeline = Pipeline([\n",
    "    ('GCL_Code-cardinal-ordering',\n",
    "     OrdinalEncoder(encoding_method='ordered', variables=['GCL_number'])\n",
    "    ),\n",
    "    \n",
    "    ('TypeEnt_number_map_modes', \n",
    "    Mapper(variables = ['TypeEnt_number'], mappings = TypeEnt_number_maps)\n",
    "    ),\n",
    "    \n",
    "    ('drop_features',\n",
    "     DropFeatures(features_to_drop= to_drop)\n",
    "    ),\n",
    "    \n",
    "    ('Fill_na',\n",
    "    Custom_Fillna(variables = ['TypeEnt_number'], fill_value = 0)\n",
    "    ),\n",
    "    \n",
    "    ('KNN', KNeighborsClassifier(n_neighbors = 4 ))\n",
    "    \n",
    "])"
   ]
  },
  {
   "cell_type": "code",
   "execution_count": 84,
   "metadata": {},
   "outputs": [
    {
     "data": {
      "text/plain": [
       "Pipeline(steps=[('GCL_Code-cardinal-ordering',\n",
       "                 OrdinalEncoder(variables=['GCL_number'])),\n",
       "                ('TypeEnt_number_map_modes',\n",
       "                 Mapper(mappings={'1000': 16, '1003': 35, '1005': 35,\n",
       "                                  '1006': 35, '1007': 35, '1008': 35,\n",
       "                                  '1010': 35, '1011': 35, '1012': 35,\n",
       "                                  '1013': 35, '1014': 35, '1016': 35,\n",
       "                                  '1018': 35, '1019': 35, '1021': 35,\n",
       "                                  '1022': 35, '1024': 35, '1025': 35,\n",
       "                                  '1026': 35, '1027': 35, '1028': 9, '1030': 35,\n",
       "                                  '1031': 35, '1032': 35, '1033': 35,\n",
       "                                  '1034': 25, '1035': 29, '1036': 27,\n",
       "                                  '1037': 35, '1038': 35, ...},\n",
       "                        variables=['TypeEnt_number'])),\n",
       "                ('drop_features',\n",
       "                 DropFeatures(features_to_drop=['Inv_Id', 'Vendor_Code',\n",
       "                                                'GL_Code', 'Item_Description',\n",
       "                                                'TypeEnt', 'GCL'])),\n",
       "                ('Fill_na',\n",
       "                 Custom_Fillna(fill_value=0, variables=['TypeEnt_number'])),\n",
       "                ('KNN', KNeighborsClassifier(n_neighbors=4))])"
      ]
     },
     "execution_count": 84,
     "metadata": {},
     "output_type": "execute_result"
    }
   ],
   "source": [
    "category_prediction_pipeline.fit(X_train, y_train)"
   ]
  },
  {
   "cell_type": "code",
   "execution_count": 85,
   "metadata": {},
   "outputs": [],
   "source": [
    "pred = category_prediction_pipeline.predict(X_train)"
   ]
  },
  {
   "cell_type": "code",
   "execution_count": 86,
   "metadata": {},
   "outputs": [
    {
     "data": {
      "text/plain": [
       "array([32, 35, 29, ..., 35, 36, 34], dtype=int64)"
      ]
     },
     "execution_count": 86,
     "metadata": {},
     "output_type": "execute_result"
    }
   ],
   "source": [
    "pred"
   ]
  },
  {
   "cell_type": "markdown",
   "metadata": {},
   "source": [
    "<b> validation"
   ]
  },
  {
   "cell_type": "code",
   "execution_count": 87,
   "metadata": {},
   "outputs": [],
   "source": [
    "X_val = splitter(data = X_val)"
   ]
  },
  {
   "cell_type": "code",
   "execution_count": 88,
   "metadata": {},
   "outputs": [
    {
     "data": {
      "text/html": [
       "<div>\n",
       "<style scoped>\n",
       "    .dataframe tbody tr th:only-of-type {\n",
       "        vertical-align: middle;\n",
       "    }\n",
       "\n",
       "    .dataframe tbody tr th {\n",
       "        vertical-align: top;\n",
       "    }\n",
       "\n",
       "    .dataframe thead th {\n",
       "        text-align: right;\n",
       "    }\n",
       "</style>\n",
       "<table border=\"1\" class=\"dataframe\">\n",
       "  <thead>\n",
       "    <tr style=\"text-align: right;\">\n",
       "      <th></th>\n",
       "      <th>Inv_Id</th>\n",
       "      <th>Vendor_Code</th>\n",
       "      <th>GL_Code</th>\n",
       "      <th>Inv_Amt</th>\n",
       "      <th>Item_Description</th>\n",
       "      <th>TypeEnt</th>\n",
       "      <th>TypeEnt_number</th>\n",
       "      <th>GCL</th>\n",
       "      <th>GCL_number</th>\n",
       "    </tr>\n",
       "  </thead>\n",
       "  <tbody>\n",
       "    <tr>\n",
       "      <th>2546</th>\n",
       "      <td>18659</td>\n",
       "      <td>VENDOR-1608</td>\n",
       "      <td>GL-6101400</td>\n",
       "      <td>92.93</td>\n",
       "      <td>Capital Southwest Corp Final Site Clean Up May...</td>\n",
       "      <td>VENDOR</td>\n",
       "      <td>1608</td>\n",
       "      <td>GL</td>\n",
       "      <td>6101400</td>\n",
       "    </tr>\n",
       "    <tr>\n",
       "      <th>2486</th>\n",
       "      <td>18574</td>\n",
       "      <td>VENDOR-1065</td>\n",
       "      <td>GL-6050310</td>\n",
       "      <td>93.45</td>\n",
       "      <td>Miscellaneous Company Car (Field Only) May2004...</td>\n",
       "      <td>VENDOR</td>\n",
       "      <td>1065</td>\n",
       "      <td>GL</td>\n",
       "      <td>6050310</td>\n",
       "    </tr>\n",
       "    <tr>\n",
       "      <th>5218</th>\n",
       "      <td>22496</td>\n",
       "      <td>VENDOR-2008</td>\n",
       "      <td>GL-6100500</td>\n",
       "      <td>61.05</td>\n",
       "      <td>Designatronics Inc Magazines Feb-2002 Media Bu...</td>\n",
       "      <td>VENDOR</td>\n",
       "      <td>2008</td>\n",
       "      <td>GL</td>\n",
       "      <td>6100500</td>\n",
       "    </tr>\n",
       "    <tr>\n",
       "      <th>3804</th>\n",
       "      <td>20468</td>\n",
       "      <td>VENDOR-1097</td>\n",
       "      <td>GL-6101400</td>\n",
       "      <td>32.10</td>\n",
       "      <td>General Contractor Store Construction General ...</td>\n",
       "      <td>VENDOR</td>\n",
       "      <td>1097</td>\n",
       "      <td>GL</td>\n",
       "      <td>6101400</td>\n",
       "    </tr>\n",
       "    <tr>\n",
       "      <th>3057</th>\n",
       "      <td>19423</td>\n",
       "      <td>VENDOR-2076</td>\n",
       "      <td>GL-6101400</td>\n",
       "      <td>1.60</td>\n",
       "      <td>General Contractor Store Construction General ...</td>\n",
       "      <td>VENDOR</td>\n",
       "      <td>2076</td>\n",
       "      <td>GL</td>\n",
       "      <td>6101400</td>\n",
       "    </tr>\n",
       "  </tbody>\n",
       "</table>\n",
       "</div>"
      ],
      "text/plain": [
       "      Inv_Id  Vendor_Code     GL_Code  Inv_Amt  \\\n",
       "2546   18659  VENDOR-1608  GL-6101400    92.93   \n",
       "2486   18574  VENDOR-1065  GL-6050310    93.45   \n",
       "5218   22496  VENDOR-2008  GL-6100500    61.05   \n",
       "3804   20468  VENDOR-1097  GL-6101400    32.10   \n",
       "3057   19423  VENDOR-2076  GL-6101400     1.60   \n",
       "\n",
       "                                       Item_Description TypeEnt  \\\n",
       "2546  Capital Southwest Corp Final Site Clean Up May...  VENDOR   \n",
       "2486  Miscellaneous Company Car (Field Only) May2004...  VENDOR   \n",
       "5218  Designatronics Inc Magazines Feb-2002 Media Bu...  VENDOR   \n",
       "3804  General Contractor Store Construction General ...  VENDOR   \n",
       "3057  General Contractor Store Construction General ...  VENDOR   \n",
       "\n",
       "     TypeEnt_number GCL GCL_number  \n",
       "2546           1608  GL    6101400  \n",
       "2486           1065  GL    6050310  \n",
       "5218           2008  GL    6100500  \n",
       "3804           1097  GL    6101400  \n",
       "3057           2076  GL    6101400  "
      ]
     },
     "execution_count": 88,
     "metadata": {},
     "output_type": "execute_result"
    }
   ],
   "source": [
    "X_val.head()"
   ]
  },
  {
   "cell_type": "code",
   "execution_count": 89,
   "metadata": {},
   "outputs": [],
   "source": [
    "pred = category_prediction_pipeline.predict(X_val)"
   ]
  },
  {
   "cell_type": "code",
   "execution_count": 90,
   "metadata": {},
   "outputs": [
    {
     "data": {
      "text/plain": [
       "array([34, 36, 27, ..., 30, 33, 33], dtype=int64)"
      ]
     },
     "execution_count": 90,
     "metadata": {},
     "output_type": "execute_result"
    }
   ],
   "source": [
    "pred"
   ]
  },
  {
   "cell_type": "markdown",
   "metadata": {},
   "source": [
    "<b> test data"
   ]
  },
  {
   "cell_type": "code",
   "execution_count": 98,
   "metadata": {},
   "outputs": [],
   "source": [
    "test_data = splitter(data = test_data)"
   ]
  },
  {
   "cell_type": "code",
   "execution_count": 99,
   "metadata": {},
   "outputs": [],
   "source": [
    "X_test = test_data[['Inv_Id', 'Vendor_Code', 'GL_Code', 'Inv_Amt', 'Item_Description']]"
   ]
  },
  {
   "cell_type": "code",
   "execution_count": 100,
   "metadata": {},
   "outputs": [
    {
     "name": "stderr",
     "output_type": "stream",
     "text": [
      "C:\\Users\\Miguel\\anaconda3\\lib\\site-packages\\pandas\\core\\frame.py:3641: SettingWithCopyWarning: \n",
      "A value is trying to be set on a copy of a slice from a DataFrame.\n",
      "Try using .loc[row_indexer,col_indexer] = value instead\n",
      "\n",
      "See the caveats in the documentation: https://pandas.pydata.org/pandas-docs/stable/user_guide/indexing.html#returning-a-view-versus-a-copy\n",
      "  self[k1] = value[k2]\n"
     ]
    }
   ],
   "source": [
    "X_test = splitter(data = X_test)"
   ]
  },
  {
   "cell_type": "code",
   "execution_count": 103,
   "metadata": {},
   "outputs": [],
   "source": [
    "pred = category_prediction_pipeline.predict(X_test)"
   ]
  },
  {
   "cell_type": "code",
   "execution_count": 104,
   "metadata": {},
   "outputs": [
    {
     "data": {
      "text/plain": [
       "array([36, 34, 34, ..., 33, 31, 16], dtype=int64)"
      ]
     },
     "execution_count": 104,
     "metadata": {},
     "output_type": "execute_result"
    }
   ],
   "source": [
    "pred"
   ]
  },
  {
   "cell_type": "markdown",
   "metadata": {},
   "source": [
    "## saving machine"
   ]
  },
  {
   "cell_type": "code",
   "execution_count": 105,
   "metadata": {},
   "outputs": [
    {
     "data": {
      "text/plain": [
       "['category_prediction_pipeline.joblib']"
      ]
     },
     "execution_count": 105,
     "metadata": {},
     "output_type": "execute_result"
    }
   ],
   "source": [
    "joblib.dump(category_prediction_pipeline, 'category_prediction_pipeline.joblib') "
   ]
  },
  {
   "cell_type": "code",
   "execution_count": null,
   "metadata": {},
   "outputs": [],
   "source": []
  }
 ],
 "metadata": {
  "kernelspec": {
   "display_name": "Python 3",
   "language": "python",
   "name": "python3"
  },
  "language_info": {
   "codemirror_mode": {
    "name": "ipython",
    "version": 3
   },
   "file_extension": ".py",
   "mimetype": "text/x-python",
   "name": "python",
   "nbconvert_exporter": "python",
   "pygments_lexer": "ipython3",
   "version": "3.7.6"
  }
 },
 "nbformat": 4,
 "nbformat_minor": 4
}
