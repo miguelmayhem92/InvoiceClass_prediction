{
 "cells": [
  {
   "cell_type": "markdown",
   "metadata": {},
   "source": [
    "# Product Invoice Classification"
   ]
  },
  {
   "cell_type": "markdown",
   "metadata": {},
   "source": [
    "* Inv_ID (Invoice ID) : Unique number representing Invoice created by supplier/vendor\n",
    "\n",
    "* Vendor Code (Vendor ID) : Unique number representing Vendor/Seller in the procurement system\n",
    "\n",
    "* GL_Code: Account’s Reference ID\n",
    "\n",
    "* Inv_Amt : Invoice Amount\n",
    "\n",
    "* Item Description : Description of Item Purchased Example: “Corporate Services Human Resources Contingent Labor/Temp Labor Contingent Labor/Temp Labor”\n",
    "\n",
    "* Product Category : Category of Product for which Invoice is raised A pseudo product category is represented in the dataset as CLASS-???, where ? is a digit.* "
   ]
  },
  {
   "cell_type": "markdown",
   "metadata": {},
   "source": [
    "## Imports"
   ]
  },
  {
   "cell_type": "code",
   "execution_count": 1,
   "metadata": {},
   "outputs": [],
   "source": [
    "import pandas as pd\n",
    "import numpy as np"
   ]
  },
  {
   "cell_type": "code",
   "execution_count": 2,
   "metadata": {},
   "outputs": [],
   "source": [
    "# for saving the pipeline\n",
    "import joblib"
   ]
  },
  {
   "cell_type": "code",
   "execution_count": 3,
   "metadata": {},
   "outputs": [],
   "source": [
    "from sklearn.model_selection import train_test_split"
   ]
  },
  {
   "cell_type": "code",
   "execution_count": 4,
   "metadata": {},
   "outputs": [],
   "source": [
    "from sklearn.multiclass import OneVsRestClassifier\n",
    "from sklearn.neighbors import KNeighborsClassifier"
   ]
  },
  {
   "cell_type": "code",
   "execution_count": 5,
   "metadata": {},
   "outputs": [],
   "source": [
    "from sklearn.pipeline import Pipeline"
   ]
  },
  {
   "cell_type": "code",
   "execution_count": 6,
   "metadata": {},
   "outputs": [],
   "source": [
    "from sklearn.base import BaseEstimator, TransformerMixin"
   ]
  },
  {
   "cell_type": "code",
   "execution_count": 7,
   "metadata": {},
   "outputs": [],
   "source": [
    "from feature_engine.encoding import OrdinalEncoder\n",
    "from feature_engine.selection import DropFeatures"
   ]
  },
  {
   "cell_type": "code",
   "execution_count": 8,
   "metadata": {},
   "outputs": [],
   "source": [
    "from custom_functions import Mapper, Custom_Fillna, splitter"
   ]
  },
  {
   "cell_type": "code",
   "execution_count": 9,
   "metadata": {},
   "outputs": [],
   "source": [
    "import json"
   ]
  },
  {
   "cell_type": "raw",
   "metadata": {},
   "source": [
    "import pandas as pd\n",
    "import numpy as np\n",
    "import sklearn as skl\n",
    "import feature_engine as fe\n",
    "import joblib as jbl"
   ]
  },
  {
   "cell_type": "raw",
   "metadata": {},
   "source": [
    "print(pd.__version__)\n",
    "print(np.__version__)\n",
    "print(skl.__version__)\n",
    "print(fe.__version__)\n",
    "print(jbl.__version__)"
   ]
  },
  {
   "cell_type": "markdown",
   "metadata": {},
   "source": [
    "## Data"
   ]
  },
  {
   "cell_type": "code",
   "execution_count": 10,
   "metadata": {},
   "outputs": [],
   "source": [
    "train_data = pd.read_csv('Train.csv')\n",
    "test_data = pd.read_csv('Test.csv')\n",
    "sample_submission_data = pd.read_csv('sample_submission.csv')"
   ]
  },
  {
   "cell_type": "markdown",
   "metadata": {},
   "source": [
    "## Transformations"
   ]
  },
  {
   "cell_type": "code",
   "execution_count": 11,
   "metadata": {},
   "outputs": [],
   "source": [
    "## map for the target\n",
    "tmp = train_data.groupby('Product_Category', as_index = False).agg(counts = ('Inv_Id','count')).sort_values('counts')\n",
    "tmp['ranks'] = range(1,len(tmp)+1)\n",
    "map_target = dict(tmp[['Product_Category','ranks']].values)"
   ]
  },
  {
   "cell_type": "code",
   "execution_count": 12,
   "metadata": {},
   "outputs": [],
   "source": [
    "#saving json\n",
    "with open('map_target.json', 'w') as fp:\n",
    "    json.dump(map_target, fp)"
   ]
  },
  {
   "cell_type": "code",
   "execution_count": 13,
   "metadata": {},
   "outputs": [],
   "source": [
    "#loading json\n",
    "with open('map_target.json', 'r') as fp:\n",
    "    map_target = json.load(fp)"
   ]
  },
  {
   "cell_type": "code",
   "execution_count": 14,
   "metadata": {},
   "outputs": [],
   "source": [
    "train_data['Map_Product_Category'] = train_data.Product_Category.map(map_target)"
   ]
  },
  {
   "cell_type": "code",
   "execution_count": 15,
   "metadata": {},
   "outputs": [],
   "source": [
    "train_data = splitter(data = train_data)"
   ]
  },
  {
   "cell_type": "markdown",
   "metadata": {},
   "source": [
    "###  split data"
   ]
  },
  {
   "cell_type": "code",
   "execution_count": 16,
   "metadata": {},
   "outputs": [],
   "source": [
    "seed = 12"
   ]
  },
  {
   "cell_type": "code",
   "execution_count": 17,
   "metadata": {},
   "outputs": [],
   "source": [
    "initial_features = ['Inv_Id', 'Vendor_Code', 'GL_Code', 'Inv_Amt', 'Item_Description']\n",
    "target = 'Map_Product_Category'"
   ]
  },
  {
   "cell_type": "code",
   "execution_count": 18,
   "metadata": {},
   "outputs": [],
   "source": [
    "X = train_data[initial_features]\n",
    "y = train_data[target]"
   ]
  },
  {
   "cell_type": "code",
   "execution_count": 19,
   "metadata": {},
   "outputs": [],
   "source": [
    "X_train, X_val, y_train, y_val = train_test_split(X, y, test_size=0.33, random_state=seed)"
   ]
  },
  {
   "cell_type": "markdown",
   "metadata": {},
   "source": [
    "### Pipeline"
   ]
  },
  {
   "cell_type": "markdown",
   "metadata": {},
   "source": [
    "<b> expanding"
   ]
  },
  {
   "cell_type": "code",
   "execution_count": 20,
   "metadata": {},
   "outputs": [],
   "source": [
    "X_train = splitter(data = X_train)"
   ]
  },
  {
   "cell_type": "markdown",
   "metadata": {},
   "source": [
    "<b> maps"
   ]
  },
  {
   "cell_type": "code",
   "execution_count": 21,
   "metadata": {},
   "outputs": [],
   "source": [
    "def get_dictionary_rank1_tomap(data, variable):\n",
    "    tmp = data.groupby([variable,'Map_Product_Category'], as_index = False).agg(counts = ('Inv_Id','count'))\n",
    "    tmp[\"Rank\"] = tmp.groupby([variable])[\"counts\"].rank(\"dense\", ascending=False)\n",
    "    tmp = tmp[tmp.Rank == 1]\n",
    "    map_rank =  dict(tmp[[variable,'Map_Product_Category']].values)\n",
    "    return map_rank"
   ]
  },
  {
   "cell_type": "code",
   "execution_count": 22,
   "metadata": {},
   "outputs": [],
   "source": [
    "TypeEnt_number_maps = get_dictionary_rank1_tomap(data = train_data, variable = 'TypeEnt_number')"
   ]
  },
  {
   "cell_type": "code",
   "execution_count": 23,
   "metadata": {},
   "outputs": [],
   "source": [
    "#saving json\n",
    "with open('TypeEnt_number_maps.json', 'w') as fp:\n",
    "    json.dump(TypeEnt_number_maps, fp)"
   ]
  },
  {
   "cell_type": "code",
   "execution_count": 24,
   "metadata": {},
   "outputs": [],
   "source": [
    "#loading json\n",
    "with open('TypeEnt_number_maps.json', 'r') as fp:\n",
    "    TypeEnt_number_maps = json.load(fp)"
   ]
  },
  {
   "cell_type": "code",
   "execution_count": 25,
   "metadata": {},
   "outputs": [],
   "source": [
    "to_drop = ['Inv_Id','Vendor_Code','GL_Code', 'Item_Description','TypeEnt','GCL']"
   ]
  },
  {
   "cell_type": "markdown",
   "metadata": {},
   "source": [
    "<b> the pipeline"
   ]
  },
  {
   "cell_type": "code",
   "execution_count": 26,
   "metadata": {},
   "outputs": [],
   "source": [
    "category_prediction_pipeline = Pipeline([\n",
    "    ('GCL_Code-cardinal-ordering',\n",
    "     OrdinalEncoder(encoding_method='ordered', variables=['GCL_number'])\n",
    "    ),\n",
    "    \n",
    "    ('TypeEnt_number_map_modes', \n",
    "    Mapper(variables = ['TypeEnt_number'], mappings = TypeEnt_number_maps)\n",
    "    ),\n",
    "    \n",
    "    ('drop_features',\n",
    "     DropFeatures(features_to_drop= to_drop)\n",
    "    ),\n",
    "    \n",
    "    ('Fill_na',\n",
    "    Custom_Fillna(variables = ['TypeEnt_number'], fill_value = 0)\n",
    "    ),\n",
    "    \n",
    "    ('KNN', OneVsRestClassifier(KNeighborsClassifier(n_neighbors = 4 )))\n",
    "    \n",
    "])"
   ]
  },
  {
   "cell_type": "code",
   "execution_count": 27,
   "metadata": {},
   "outputs": [
    {
     "data": {
      "text/plain": [
       "Pipeline(steps=[('GCL_Code-cardinal-ordering',\n",
       "                 OrdinalEncoder(variables=['GCL_number'])),\n",
       "                ('TypeEnt_number_map_modes',\n",
       "                 Mapper(mappings={'1000': 16, '1003': 35, '1005': 35,\n",
       "                                  '1006': 35, '1007': 35, '1008': 35,\n",
       "                                  '1010': 35, '1011': 35, '1012': 35,\n",
       "                                  '1013': 35, '1014': 35, '1016': 35,\n",
       "                                  '1018': 35, '1019': 35, '1021': 35,\n",
       "                                  '1022': 35, '1024': 35, '1025': 35,\n",
       "                                  '1026': 35, '1027': 35, '1028': 9, '1030': 3...\n",
       "                                  '1034': 25, '1035': 29, '1036': 27,\n",
       "                                  '1037': 35, '1038': 35, ...},\n",
       "                        variables=['TypeEnt_number'])),\n",
       "                ('drop_features',\n",
       "                 DropFeatures(features_to_drop=['Inv_Id', 'Vendor_Code',\n",
       "                                                'GL_Code', 'Item_Description',\n",
       "                                                'TypeEnt', 'GCL'])),\n",
       "                ('Fill_na',\n",
       "                 Custom_Fillna(fill_value=0, variables=['TypeEnt_number'])),\n",
       "                ('KNN',\n",
       "                 OneVsRestClassifier(estimator=KNeighborsClassifier(n_neighbors=4)))])"
      ]
     },
     "execution_count": 27,
     "metadata": {},
     "output_type": "execute_result"
    }
   ],
   "source": [
    "category_prediction_pipeline.fit(X_train, y_train)"
   ]
  },
  {
   "cell_type": "code",
   "execution_count": 28,
   "metadata": {},
   "outputs": [],
   "source": [
    "y_train_pred = category_prediction_pipeline.predict(X_train)"
   ]
  },
  {
   "cell_type": "code",
   "execution_count": 29,
   "metadata": {},
   "outputs": [
    {
     "data": {
      "text/plain": [
       "array([33, 35, 29, ..., 35, 36, 34], dtype=int64)"
      ]
     },
     "execution_count": 29,
     "metadata": {},
     "output_type": "execute_result"
    }
   ],
   "source": [
    "y_train_pred"
   ]
  },
  {
   "cell_type": "markdown",
   "metadata": {},
   "source": [
    "<b> validation"
   ]
  },
  {
   "cell_type": "code",
   "execution_count": 30,
   "metadata": {},
   "outputs": [],
   "source": [
    "X_val = splitter(data = X_val)"
   ]
  },
  {
   "cell_type": "code",
   "execution_count": 31,
   "metadata": {},
   "outputs": [],
   "source": [
    "y_val_pred = category_prediction_pipeline.predict(X_val)"
   ]
  },
  {
   "cell_type": "code",
   "execution_count": 32,
   "metadata": {},
   "outputs": [
    {
     "data": {
      "text/plain": [
       "array([34, 36, 27, ..., 30, 33, 33], dtype=int64)"
      ]
     },
     "execution_count": 32,
     "metadata": {},
     "output_type": "execute_result"
    }
   ],
   "source": [
    "y_val_pred"
   ]
  },
  {
   "cell_type": "markdown",
   "metadata": {},
   "source": [
    "<b> test data"
   ]
  },
  {
   "cell_type": "code",
   "execution_count": 33,
   "metadata": {},
   "outputs": [],
   "source": [
    "test_data = splitter(data = test_data)"
   ]
  },
  {
   "cell_type": "code",
   "execution_count": 34,
   "metadata": {},
   "outputs": [],
   "source": [
    "X_test = test_data[initial_features]"
   ]
  },
  {
   "cell_type": "code",
   "execution_count": 35,
   "metadata": {},
   "outputs": [
    {
     "name": "stderr",
     "output_type": "stream",
     "text": [
      "C:\\Users\\Miguel\\anaconda3\\lib\\site-packages\\pandas\\core\\frame.py:3641: SettingWithCopyWarning: \n",
      "A value is trying to be set on a copy of a slice from a DataFrame.\n",
      "Try using .loc[row_indexer,col_indexer] = value instead\n",
      "\n",
      "See the caveats in the documentation: https://pandas.pydata.org/pandas-docs/stable/user_guide/indexing.html#returning-a-view-versus-a-copy\n",
      "  self[k1] = value[k2]\n"
     ]
    }
   ],
   "source": [
    "X_test = splitter(data = X_test)"
   ]
  },
  {
   "cell_type": "code",
   "execution_count": 36,
   "metadata": {},
   "outputs": [],
   "source": [
    "y_test_pred = category_prediction_pipeline.predict(X_test)"
   ]
  },
  {
   "cell_type": "code",
   "execution_count": 37,
   "metadata": {},
   "outputs": [
    {
     "data": {
      "text/plain": [
       "(2446,)"
      ]
     },
     "execution_count": 37,
     "metadata": {},
     "output_type": "execute_result"
    }
   ],
   "source": [
    "y_test_pred.shape"
   ]
  },
  {
   "cell_type": "code",
   "execution_count": 38,
   "metadata": {},
   "outputs": [],
   "source": [
    "X_test['yhat'] = y_test_pred"
   ]
  },
  {
   "cell_type": "code",
   "execution_count": 39,
   "metadata": {},
   "outputs": [
    {
     "data": {
      "text/html": [
       "<div>\n",
       "<style scoped>\n",
       "    .dataframe tbody tr th:only-of-type {\n",
       "        vertical-align: middle;\n",
       "    }\n",
       "\n",
       "    .dataframe tbody tr th {\n",
       "        vertical-align: top;\n",
       "    }\n",
       "\n",
       "    .dataframe thead th {\n",
       "        text-align: right;\n",
       "    }\n",
       "</style>\n",
       "<table border=\"1\" class=\"dataframe\">\n",
       "  <thead>\n",
       "    <tr style=\"text-align: right;\">\n",
       "      <th></th>\n",
       "      <th>Inv_Id</th>\n",
       "      <th>Vendor_Code</th>\n",
       "      <th>GL_Code</th>\n",
       "      <th>Inv_Amt</th>\n",
       "      <th>Item_Description</th>\n",
       "      <th>TypeEnt</th>\n",
       "      <th>TypeEnt_number</th>\n",
       "      <th>GCL</th>\n",
       "      <th>GCL_number</th>\n",
       "      <th>yhat</th>\n",
       "    </tr>\n",
       "  </thead>\n",
       "  <tbody>\n",
       "    <tr>\n",
       "      <th>0</th>\n",
       "      <td>15003</td>\n",
       "      <td>VENDOR-2513</td>\n",
       "      <td>GL-6050310</td>\n",
       "      <td>56.13</td>\n",
       "      <td>Travel and Entertainment Miscellaneous Company...</td>\n",
       "      <td>VENDOR</td>\n",
       "      <td>2513</td>\n",
       "      <td>GL</td>\n",
       "      <td>6050310</td>\n",
       "      <td>36</td>\n",
       "    </tr>\n",
       "    <tr>\n",
       "      <th>1</th>\n",
       "      <td>15008</td>\n",
       "      <td>VENDOR-1044</td>\n",
       "      <td>GL-6101400</td>\n",
       "      <td>96.56</td>\n",
       "      <td>Final Site Clean Up Store Construction Advance...</td>\n",
       "      <td>VENDOR</td>\n",
       "      <td>1044</td>\n",
       "      <td>GL</td>\n",
       "      <td>6101400</td>\n",
       "      <td>34</td>\n",
       "    </tr>\n",
       "    <tr>\n",
       "      <th>2</th>\n",
       "      <td>15013</td>\n",
       "      <td>VENDOR-1254</td>\n",
       "      <td>GL-6101400</td>\n",
       "      <td>55.93</td>\n",
       "      <td>Arabian American Development Co Final Site Cle...</td>\n",
       "      <td>VENDOR</td>\n",
       "      <td>1254</td>\n",
       "      <td>GL</td>\n",
       "      <td>6101400</td>\n",
       "      <td>34</td>\n",
       "    </tr>\n",
       "    <tr>\n",
       "      <th>3</th>\n",
       "      <td>15019</td>\n",
       "      <td>VENDOR-1331</td>\n",
       "      <td>GL-2182000</td>\n",
       "      <td>32.62</td>\n",
       "      <td>Corporate Services Contingent Labor/Temp Labor...</td>\n",
       "      <td>VENDOR</td>\n",
       "      <td>1331</td>\n",
       "      <td>GL</td>\n",
       "      <td>2182000</td>\n",
       "      <td>32</td>\n",
       "    </tr>\n",
       "    <tr>\n",
       "      <th>4</th>\n",
       "      <td>15020</td>\n",
       "      <td>VENDOR-2513</td>\n",
       "      <td>GL-6050310</td>\n",
       "      <td>25.81</td>\n",
       "      <td>Fortune National Corp Miscellaneous Company Ca...</td>\n",
       "      <td>VENDOR</td>\n",
       "      <td>2513</td>\n",
       "      <td>GL</td>\n",
       "      <td>6050310</td>\n",
       "      <td>36</td>\n",
       "    </tr>\n",
       "    <tr>\n",
       "      <th>...</th>\n",
       "      <td>...</td>\n",
       "      <td>...</td>\n",
       "      <td>...</td>\n",
       "      <td>...</td>\n",
       "      <td>...</td>\n",
       "      <td>...</td>\n",
       "      <td>...</td>\n",
       "      <td>...</td>\n",
       "      <td>...</td>\n",
       "      <td>...</td>\n",
       "    </tr>\n",
       "    <tr>\n",
       "      <th>2441</th>\n",
       "      <td>22995</td>\n",
       "      <td>VENDOR-2237</td>\n",
       "      <td>GL-6101400</td>\n",
       "      <td>7.75</td>\n",
       "      <td>General Contractor General Requirements Final ...</td>\n",
       "      <td>VENDOR</td>\n",
       "      <td>2237</td>\n",
       "      <td>GL</td>\n",
       "      <td>6101400</td>\n",
       "      <td>34</td>\n",
       "    </tr>\n",
       "    <tr>\n",
       "      <th>2442</th>\n",
       "      <td>23002</td>\n",
       "      <td>VENDOR-1066</td>\n",
       "      <td>GL-6050310</td>\n",
       "      <td>37.35</td>\n",
       "      <td>Ground Transportation Miscellaneous Company Ca...</td>\n",
       "      <td>VENDOR</td>\n",
       "      <td>1066</td>\n",
       "      <td>GL</td>\n",
       "      <td>6050310</td>\n",
       "      <td>36</td>\n",
       "    </tr>\n",
       "    <tr>\n",
       "      <th>2443</th>\n",
       "      <td>23006</td>\n",
       "      <td>VENDOR-1883</td>\n",
       "      <td>GL-2182000</td>\n",
       "      <td>42.16</td>\n",
       "      <td>Auto Leasing Corporate Services Corning Inc /N...</td>\n",
       "      <td>VENDOR</td>\n",
       "      <td>1883</td>\n",
       "      <td>GL</td>\n",
       "      <td>2182000</td>\n",
       "      <td>33</td>\n",
       "    </tr>\n",
       "    <tr>\n",
       "      <th>2444</th>\n",
       "      <td>23009</td>\n",
       "      <td>VENDOR-2120</td>\n",
       "      <td>GL-6100410</td>\n",
       "      <td>63.52</td>\n",
       "      <td>Artworking/Typesetting Production 2007Mar Aqui...</td>\n",
       "      <td>VENDOR</td>\n",
       "      <td>2120</td>\n",
       "      <td>GL</td>\n",
       "      <td>6100410</td>\n",
       "      <td>31</td>\n",
       "    </tr>\n",
       "    <tr>\n",
       "      <th>2445</th>\n",
       "      <td>23011</td>\n",
       "      <td>VENDOR-2047</td>\n",
       "      <td>GL-2182000</td>\n",
       "      <td>40.16</td>\n",
       "      <td>2008Jul Dr Pepper Co Public Relations Agency A...</td>\n",
       "      <td>VENDOR</td>\n",
       "      <td>2047</td>\n",
       "      <td>GL</td>\n",
       "      <td>2182000</td>\n",
       "      <td>16</td>\n",
       "    </tr>\n",
       "  </tbody>\n",
       "</table>\n",
       "<p>2446 rows × 10 columns</p>\n",
       "</div>"
      ],
      "text/plain": [
       "      Inv_Id  Vendor_Code     GL_Code  Inv_Amt  \\\n",
       "0      15003  VENDOR-2513  GL-6050310    56.13   \n",
       "1      15008  VENDOR-1044  GL-6101400    96.56   \n",
       "2      15013  VENDOR-1254  GL-6101400    55.93   \n",
       "3      15019  VENDOR-1331  GL-2182000    32.62   \n",
       "4      15020  VENDOR-2513  GL-6050310    25.81   \n",
       "...      ...          ...         ...      ...   \n",
       "2441   22995  VENDOR-2237  GL-6101400     7.75   \n",
       "2442   23002  VENDOR-1066  GL-6050310    37.35   \n",
       "2443   23006  VENDOR-1883  GL-2182000    42.16   \n",
       "2444   23009  VENDOR-2120  GL-6100410    63.52   \n",
       "2445   23011  VENDOR-2047  GL-2182000    40.16   \n",
       "\n",
       "                                       Item_Description TypeEnt  \\\n",
       "0     Travel and Entertainment Miscellaneous Company...  VENDOR   \n",
       "1     Final Site Clean Up Store Construction Advance...  VENDOR   \n",
       "2     Arabian American Development Co Final Site Cle...  VENDOR   \n",
       "3     Corporate Services Contingent Labor/Temp Labor...  VENDOR   \n",
       "4     Fortune National Corp Miscellaneous Company Ca...  VENDOR   \n",
       "...                                                 ...     ...   \n",
       "2441  General Contractor General Requirements Final ...  VENDOR   \n",
       "2442  Ground Transportation Miscellaneous Company Ca...  VENDOR   \n",
       "2443  Auto Leasing Corporate Services Corning Inc /N...  VENDOR   \n",
       "2444  Artworking/Typesetting Production 2007Mar Aqui...  VENDOR   \n",
       "2445  2008Jul Dr Pepper Co Public Relations Agency A...  VENDOR   \n",
       "\n",
       "     TypeEnt_number GCL GCL_number  yhat  \n",
       "0              2513  GL    6050310    36  \n",
       "1              1044  GL    6101400    34  \n",
       "2              1254  GL    6101400    34  \n",
       "3              1331  GL    2182000    32  \n",
       "4              2513  GL    6050310    36  \n",
       "...             ...  ..        ...   ...  \n",
       "2441           2237  GL    6101400    34  \n",
       "2442           1066  GL    6050310    36  \n",
       "2443           1883  GL    2182000    33  \n",
       "2444           2120  GL    6100410    31  \n",
       "2445           2047  GL    2182000    16  \n",
       "\n",
       "[2446 rows x 10 columns]"
      ]
     },
     "execution_count": 39,
     "metadata": {},
     "output_type": "execute_result"
    }
   ],
   "source": [
    "X_test"
   ]
  },
  {
   "cell_type": "markdown",
   "metadata": {},
   "source": [
    "## saving machine"
   ]
  },
  {
   "cell_type": "code",
   "execution_count": 40,
   "metadata": {},
   "outputs": [
    {
     "data": {
      "text/plain": [
       "['category_prediction_pipeline.joblib']"
      ]
     },
     "execution_count": 40,
     "metadata": {},
     "output_type": "execute_result"
    }
   ],
   "source": [
    "joblib.dump(category_prediction_pipeline, 'category_prediction_pipeline.joblib') "
   ]
  }
 ],
 "metadata": {
  "kernelspec": {
   "display_name": "Python 3",
   "language": "python",
   "name": "python3"
  },
  "language_info": {
   "codemirror_mode": {
    "name": "ipython",
    "version": 3
   },
   "file_extension": ".py",
   "mimetype": "text/x-python",
   "name": "python",
   "nbconvert_exporter": "python",
   "pygments_lexer": "ipython3",
   "version": "3.7.6"
  }
 },
 "nbformat": 4,
 "nbformat_minor": 4
}
