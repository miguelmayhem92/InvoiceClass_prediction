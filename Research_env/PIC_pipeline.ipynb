{
 "cells": [
  {
   "cell_type": "markdown",
   "metadata": {},
   "source": [
    "# Product Invoice Classification"
   ]
  },
  {
   "cell_type": "markdown",
   "metadata": {},
   "source": [
    "* Inv_ID (Invoice ID) : Unique number representing Invoice created by supplier/vendor\n",
    "\n",
    "* Vendor Code (Vendor ID) : Unique number representing Vendor/Seller in the procurement system\n",
    "\n",
    "* GL_Code: Account’s Reference ID\n",
    "\n",
    "* Inv_Amt : Invoice Amount\n",
    "\n",
    "* Item Description : Description of Item Purchased Example: “Corporate Services Human Resources Contingent Labor/Temp Labor Contingent Labor/Temp Labor”\n",
    "\n",
    "* Product Category : Category of Product for which Invoice is raised A pseudo product category is represented in the dataset as CLASS-???, where ? is a digit.* "
   ]
  },
  {
   "cell_type": "markdown",
   "metadata": {},
   "source": [
    "## Imports"
   ]
  },
  {
   "cell_type": "code",
   "execution_count": 1,
   "metadata": {},
   "outputs": [],
   "source": [
    "import pandas as pd\n",
    "import numpy as np"
   ]
  },
  {
   "cell_type": "code",
   "execution_count": 2,
   "metadata": {},
   "outputs": [],
   "source": [
    "# for saving the pipeline\n",
    "import joblib"
   ]
  },
  {
   "cell_type": "code",
   "execution_count": 3,
   "metadata": {},
   "outputs": [],
   "source": [
    "from sklearn.model_selection import train_test_split"
   ]
  },
  {
   "cell_type": "code",
   "execution_count": 4,
   "metadata": {},
   "outputs": [],
   "source": [
    "from sklearn.multiclass import OneVsRestClassifier\n",
    "from sklearn.neighbors import KNeighborsClassifier\n",
    "from sklearn.ensemble import GradientBoostingClassifier"
   ]
  },
  {
   "cell_type": "code",
   "execution_count": 5,
   "metadata": {},
   "outputs": [],
   "source": [
    "from sklearn.pipeline import Pipeline, make_pipeline,make_union"
   ]
  },
  {
   "cell_type": "code",
   "execution_count": 6,
   "metadata": {},
   "outputs": [],
   "source": [
    "from sklearn.base import BaseEstimator, TransformerMixin"
   ]
  },
  {
   "cell_type": "code",
   "execution_count": 7,
   "metadata": {},
   "outputs": [],
   "source": [
    "from feature_engine.encoding import OrdinalEncoder\n",
    "from feature_engine.selection import DropFeatures"
   ]
  },
  {
   "cell_type": "code",
   "execution_count": 8,
   "metadata": {},
   "outputs": [],
   "source": [
    "from sklearn.metrics import f1_score, roc_auc_score"
   ]
  },
  {
   "cell_type": "code",
   "execution_count": 9,
   "metadata": {},
   "outputs": [],
   "source": [
    "from custom_functions import Mapper, Custom_Fillna, splitter\n",
    "from custom_functions import find_pattern, get_date, get_date_features\n",
    "from custom_functions import count_character, get_items_in_description, get_keywords_from_description\n",
    "from custom_functions import my_train_test_split_with_balance"
   ]
  },
  {
   "cell_type": "code",
   "execution_count": 10,
   "metadata": {},
   "outputs": [],
   "source": [
    "import json\n",
    "import re\n",
    "import itertools\n",
    "import collections"
   ]
  },
  {
   "cell_type": "code",
   "execution_count": 11,
   "metadata": {},
   "outputs": [],
   "source": [
    "from sklearn.model_selection import GridSearchCV\n",
    "from sklearn.model_selection import ShuffleSplit"
   ]
  },
  {
   "cell_type": "code",
   "execution_count": 12,
   "metadata": {},
   "outputs": [],
   "source": [
    "import warnings\n",
    "warnings.filterwarnings('ignore')"
   ]
  },
  {
   "cell_type": "code",
   "execution_count": 13,
   "metadata": {},
   "outputs": [],
   "source": [
    "import seaborn as sns; sns.set_theme()"
   ]
  },
  {
   "cell_type": "raw",
   "metadata": {},
   "source": [
    "import pandas as pd\n",
    "import numpy as np\n",
    "import sklearn as skl\n",
    "import feature_engine as fe\n",
    "import joblib as jbl"
   ]
  },
  {
   "cell_type": "raw",
   "metadata": {},
   "source": [
    "print(pd.__version__)\n",
    "print(np.__version__)\n",
    "print(skl.__version__)\n",
    "print(fe.__version__)\n",
    "print(jbl.__version__)"
   ]
  },
  {
   "cell_type": "markdown",
   "metadata": {},
   "source": [
    "## Data"
   ]
  },
  {
   "cell_type": "code",
   "execution_count": 14,
   "metadata": {},
   "outputs": [],
   "source": [
    "train_data = pd.read_csv('Train.csv')\n",
    "test_data = pd.read_csv('Test.csv')\n",
    "sample_submission_data = pd.read_csv('sample_submission.csv')"
   ]
  },
  {
   "cell_type": "markdown",
   "metadata": {},
   "source": [
    "## Transformations"
   ]
  },
  {
   "cell_type": "code",
   "execution_count": 15,
   "metadata": {},
   "outputs": [],
   "source": [
    "## map for the target\n",
    "tmp = train_data.groupby('Product_Category', as_index = False).agg(counts = ('Inv_Id','count')).sort_values('counts')\n",
    "tmp['ranks'] = range(0,len(tmp))\n",
    "map_target = dict(tmp[['Product_Category','ranks']].values)"
   ]
  },
  {
   "cell_type": "code",
   "execution_count": 16,
   "metadata": {},
   "outputs": [],
   "source": [
    "#saving json\n",
    "with open('map_target.json', 'w') as fp:\n",
    "    json.dump(map_target, fp)"
   ]
  },
  {
   "cell_type": "code",
   "execution_count": 17,
   "metadata": {},
   "outputs": [],
   "source": [
    "#loading json\n",
    "with open('map_target.json', 'r') as fp:\n",
    "    map_target = json.load(fp)"
   ]
  },
  {
   "cell_type": "code",
   "execution_count": 18,
   "metadata": {},
   "outputs": [],
   "source": [
    "train_data['Map_Product_Category'] = train_data.Product_Category.map(map_target)"
   ]
  },
  {
   "cell_type": "markdown",
   "metadata": {},
   "source": [
    "###  split data"
   ]
  },
  {
   "cell_type": "code",
   "execution_count": 19,
   "metadata": {},
   "outputs": [],
   "source": [
    "seed = 12"
   ]
  },
  {
   "cell_type": "code",
   "execution_count": 20,
   "metadata": {},
   "outputs": [],
   "source": [
    "initial_features = ['Inv_Id', 'Vendor_Code', 'GL_Code', 'Inv_Amt', 'Item_Description']\n",
    "target = 'Map_Product_Category'"
   ]
  },
  {
   "cell_type": "code",
   "execution_count": 21,
   "metadata": {},
   "outputs": [],
   "source": [
    "new_train, val_tmp  = my_train_test_split_with_balance(data = train_data, test_size = 0.3, n = 30, threshold = 70, seed = seed)"
   ]
  },
  {
   "cell_type": "code",
   "execution_count": 22,
   "metadata": {},
   "outputs": [],
   "source": [
    "#def my_data_balance(data):"
   ]
  },
  {
   "cell_type": "code",
   "execution_count": 23,
   "metadata": {},
   "outputs": [
    {
     "data": {
      "text/plain": [
       "((5048, 8), (518, 8))"
      ]
     },
     "execution_count": 23,
     "metadata": {},
     "output_type": "execute_result"
    }
   ],
   "source": [
    "new_train.shape, val_tmp.shape"
   ]
  },
  {
   "cell_type": "code",
   "execution_count": 24,
   "metadata": {},
   "outputs": [],
   "source": [
    "X_train, y_train, X_val, y_val  = new_train[initial_features], new_train[target] , val_tmp[initial_features], val_tmp[target]"
   ]
  },
  {
   "cell_type": "markdown",
   "metadata": {},
   "source": [
    "### Pipeline"
   ]
  },
  {
   "cell_type": "markdown",
   "metadata": {},
   "source": [
    "<b> Getting date finder regex"
   ]
  },
  {
   "cell_type": "code",
   "execution_count": 25,
   "metadata": {},
   "outputs": [],
   "source": [
    "tmp_description = X_train[['Inv_Id','Item_Description']].copy()"
   ]
  },
  {
   "cell_type": "code",
   "execution_count": 26,
   "metadata": {},
   "outputs": [],
   "source": [
    "lists_description_split = [x.split('/') for x in tmp_description.Item_Description.unique()]\n",
    "lists_description_split = list(itertools.chain.from_iterable(lists_description_split))\n",
    "lists_description_split = list(set(lists_description_split))\n",
    "lists_description_split.sort()"
   ]
  },
  {
   "cell_type": "code",
   "execution_count": 27,
   "metadata": {},
   "outputs": [],
   "source": [
    "month_3chr = '|'.join(['Jan','Feb','Mar','Apr','May','Jun','Jul','Aug','Sep','Oct','Nov','Dec'] )"
   ]
  },
  {
   "cell_type": "code",
   "execution_count": 28,
   "metadata": {},
   "outputs": [],
   "source": [
    "month_rx = f'({month_3chr})'\n",
    "year_rx = '\\d{4}'"
   ]
  },
  {
   "cell_type": "code",
   "execution_count": 29,
   "metadata": {},
   "outputs": [],
   "source": [
    "regexs_dates = [f'{month_rx}{year_rx}',f'{month_rx}-{year_rx}',f'{month_rx} {year_rx}',\n",
    "        f'{year_rx}{month_rx}',f'{year_rx}-{month_rx}',f'{year_rx} {month_rx}',]\n",
    "regexs_dates =  '|'.join(regexs_dates)"
   ]
  },
  {
   "cell_type": "markdown",
   "metadata": {},
   "source": [
    "<b> regex for key words"
   ]
  },
  {
   "cell_type": "code",
   "execution_count": 30,
   "metadata": {},
   "outputs": [],
   "source": [
    "key_words = ['Travel and Entertainment','Company Car','Corporate Services', 'Auto Leasing','General Contractor','Store Construction',\n",
    "           'Ground Transportation','Base Rent','Final Site','Store Management','Site Clean Up', 'General Requirements', 'Real Estate','Media Buy',\n",
    "           'Trade Show','Contingent Labor','Repair and Maintenance','Agency Fees','Human Resources','Manufacturing','Fortune National','Events and Promotions',\n",
    "            'Laboratories', 'Artists & Models','National Advertising','Transportation Services',\n",
    "           'Miscellaneous']\n",
    "key_words_regex = '|'.join(key_words)"
   ]
  },
  {
   "cell_type": "markdown",
   "metadata": {},
   "source": [
    "<b> regex for company type"
   ]
  },
  {
   "cell_type": "code",
   "execution_count": 31,
   "metadata": {},
   "outputs": [],
   "source": [
    "type_company_regex = r'\\b Co\\b| Corp\\b| Inc\\b| Comp\\b\\b'"
   ]
  },
  {
   "cell_type": "code",
   "execution_count": 32,
   "metadata": {},
   "outputs": [],
   "source": [
    "regex_to_use ={\n",
    "    'dates_rx':regexs_dates,\n",
    "    'month_rx':month_rx,\n",
    "    'year_rx': year_rx,\n",
    "    'keywords_rx':key_words_regex,\n",
    "    'type_company_rx': type_company_regex\n",
    "}"
   ]
  },
  {
   "cell_type": "code",
   "execution_count": 33,
   "metadata": {},
   "outputs": [],
   "source": [
    "#saving json\n",
    "with open('regex_to_use.json', 'w') as fp:\n",
    "    json.dump(regex_to_use, fp)"
   ]
  },
  {
   "cell_type": "code",
   "execution_count": 34,
   "metadata": {},
   "outputs": [],
   "source": [
    "#loading json\n",
    "with open('regex_to_use.json', 'r') as fp:\n",
    "    regex_to_use = json.load(fp)"
   ]
  },
  {
   "cell_type": "markdown",
   "metadata": {},
   "source": [
    "<b> Other maps"
   ]
  },
  {
   "cell_type": "code",
   "execution_count": 35,
   "metadata": {},
   "outputs": [],
   "source": [
    "def splitter_json(data):\n",
    "    data[['TypeEnt','TypeEnt_number']] = data.Vendor_Code.str.split('-',expand=True)\n",
    "    data[['GCL','GCL_number']] = data.GL_Code.str.split('-',expand=True)\n",
    "    return data"
   ]
  },
  {
   "cell_type": "code",
   "execution_count": 36,
   "metadata": {},
   "outputs": [],
   "source": [
    "## just to get the json\n",
    "train_data = splitter_json(data = train_data).copy()\n",
    "train_data_json = splitter_json(data = train_data)"
   ]
  },
  {
   "cell_type": "code",
   "execution_count": 37,
   "metadata": {},
   "outputs": [],
   "source": [
    "def get_dictionary_rank1_tomap(data, variable):\n",
    "    tmp = data.groupby([variable,'Map_Product_Category'], as_index = False).agg(counts = ('Inv_Id','count'))\n",
    "    tmp[\"Rank\"] = tmp.groupby([variable])[\"counts\"].rank(\"dense\", ascending=False)\n",
    "    tmp = tmp[tmp.Rank == 1]\n",
    "    map_rank =  dict(tmp[[variable,'Map_Product_Category']].values)\n",
    "    return map_rank"
   ]
  },
  {
   "cell_type": "code",
   "execution_count": 38,
   "metadata": {},
   "outputs": [],
   "source": [
    "TypeEnt_number_maps = get_dictionary_rank1_tomap(data = train_data_json, variable = 'TypeEnt_number')\n",
    "del train_data_json"
   ]
  },
  {
   "cell_type": "code",
   "execution_count": 39,
   "metadata": {},
   "outputs": [],
   "source": [
    "#saving json\n",
    "with open('TypeEnt_number_maps.json', 'w') as fp:\n",
    "    json.dump(TypeEnt_number_maps, fp)"
   ]
  },
  {
   "cell_type": "code",
   "execution_count": 40,
   "metadata": {},
   "outputs": [],
   "source": [
    "#loading json\n",
    "with open('TypeEnt_number_maps.json', 'r') as fp:\n",
    "    TypeEnt_number_maps = json.load(fp)"
   ]
  },
  {
   "cell_type": "markdown",
   "metadata": {},
   "source": [
    "<b> Additional"
   ]
  },
  {
   "cell_type": "code",
   "execution_count": 41,
   "metadata": {},
   "outputs": [],
   "source": [
    "to_drop = ['Inv_Id','Vendor_Code','GL_Code', 'Item_Description']"
   ]
  },
  {
   "cell_type": "raw",
   "metadata": {},
   "source": [
    "def quick_data_reduction():\n",
    "    return"
   ]
  },
  {
   "cell_type": "raw",
   "metadata": {},
   "source": [
    "def quick_data_augmentation():\n",
    "    return"
   ]
  },
  {
   "cell_type": "markdown",
   "metadata": {},
   "source": [
    "#### The pipeline"
   ]
  },
  {
   "cell_type": "code",
   "execution_count": 42,
   "metadata": {},
   "outputs": [],
   "source": [
    "feature_pipeline = Pipeline([\n",
    "    \n",
    "    ('NumberOfItemsInDescription_ready', ## clean not founds\n",
    "     get_items_in_description(variables = ['Item_Description'], new_variable_names = ['ItemsInDescription'])\n",
    "    ),\n",
    "    \n",
    "    ('GetKeyWord_prepro', ## needed to convert ordinal encoding and clean not founds\n",
    "     get_keywords_from_description(variables = ['Item_Description','Item_Description'], new_variable_names = ['KeyWords','CompanyFoundType']\n",
    "                                   , keywords = [regex_to_use['keywords_rx'], regex_to_use['type_company_rx']])\n",
    "    ),\n",
    "    \n",
    "    ('TimeDate_features', ## needed to convert ordinal encoding and clean not founds\n",
    "     get_date_features(variables = ['Item_Description'], date_regex = regex_to_use['dates_rx'],\n",
    "                       year_regex = regex_to_use['year_rx'], moth_regex = regex_to_use['month_rx'])\n",
    "    ),\n",
    "    \n",
    "    ('splitter',\n",
    "     splitter(variables = ['Vendor_Code','GL_Code'], new_variable_names = ['TypeEnt_number','GCL_number'])\n",
    "    ),\n",
    "    \n",
    "    ('cardinal-ordering',\n",
    "     OrdinalEncoder(encoding_method='ordered', variables=['GCL_number','KeyWords','CompanyFoundType'])\n",
    "    ),\n",
    "    \n",
    "    ('TypeEnt_number_map_modes', \n",
    "    Mapper(variables = ['TypeEnt_number'], mappings = TypeEnt_number_maps)\n",
    "    ),\n",
    "    \n",
    "    ('drop_features',\n",
    "     DropFeatures(features_to_drop= to_drop)\n",
    "    ),\n",
    "    \n",
    "    ('Fill_na',\n",
    "    Custom_Fillna(variables = ['TypeEnt_number','KeyWords','CompanyFoundType','YearFound','MonthFound'], fill_value = 0)\n",
    "    )\n",
    "])"
   ]
  },
  {
   "cell_type": "markdown",
   "metadata": {},
   "source": [
    "### Modeling"
   ]
  },
  {
   "cell_type": "markdown",
   "metadata": {},
   "source": [
    "<b> general settings"
   ]
  },
  {
   "cell_type": "code",
   "execution_count": 45,
   "metadata": {},
   "outputs": [],
   "source": [
    "cv_seed = 1478\n",
    "n_jobs_cv = -1"
   ]
  },
  {
   "cell_type": "code",
   "execution_count": 46,
   "metadata": {},
   "outputs": [],
   "source": [
    "cv_setting = ShuffleSplit(n_splits = 10, test_size = 0.2, random_state = cv_seed )"
   ]
  },
  {
   "cell_type": "markdown",
   "metadata": {},
   "source": [
    "<b> Knn"
   ]
  },
  {
   "cell_type": "code",
   "execution_count": 47,
   "metadata": {},
   "outputs": [],
   "source": [
    "knn_parameters = {'onevsrestclassifier__estimator__n_neighbors': [2,3,4,5,6,7,8,9,10]}"
   ]
  },
  {
   "cell_type": "code",
   "execution_count": 48,
   "metadata": {},
   "outputs": [],
   "source": [
    "knn_pipeline = make_pipeline(*feature_pipeline, OneVsRestClassifier(KNeighborsClassifier()))"
   ]
  },
  {
   "cell_type": "code",
   "execution_count": 49,
   "metadata": {},
   "outputs": [
    {
     "name": "stdout",
     "output_type": "stream",
     "text": [
      "Wall time: 1min 31s\n"
     ]
    },
    {
     "data": {
      "text/plain": [
       "GridSearchCV(cv=ShuffleSplit(n_splits=10, random_state=1478, test_size=0.2, train_size=None),\n",
       "             error_score='raise',\n",
       "             estimator=Pipeline(steps=[('get_items_in_description',\n",
       "                                        get_items_in_description(new_variable_names=['ItemsInDescription'],\n",
       "                                                                 variables=['Item_Description'])),\n",
       "                                       ('get_keywords_from_description',\n",
       "                                        get_keywords_from_description(keywords=['Travel '\n",
       "                                                                                'and '...\n",
       "                                                                       'GL_Code',\n",
       "                                                                       'Item_Description'])),\n",
       "                                       ('custom_fillna',\n",
       "                                        Custom_Fillna(fill_value=0,\n",
       "                                                      variables=['TypeEnt_number',\n",
       "                                                                 'KeyWords',\n",
       "                                                                 'CompanyFoundType',\n",
       "                                                                 'YearFound',\n",
       "                                                                 'MonthFound'])),\n",
       "                                       ('onevsrestclassifier',\n",
       "                                        OneVsRestClassifier(estimator=KNeighborsClassifier()))]),\n",
       "             n_jobs=-1,\n",
       "             param_grid={'onevsrestclassifier__estimator__n_neighbors': [2, 3,\n",
       "                                                                         4, 5,\n",
       "                                                                         6, 7,\n",
       "                                                                         8, 9,\n",
       "                                                                         10]},\n",
       "             scoring='accuracy')"
      ]
     },
     "execution_count": 49,
     "metadata": {},
     "output_type": "execute_result"
    }
   ],
   "source": [
    "%%time\n",
    "knn_search =  GridSearchCV(knn_pipeline, param_grid = knn_parameters, cv = cv_setting, \n",
    "                           scoring = 'accuracy', n_jobs = n_jobs_cv, error_score=\"raise\")\n",
    "knn_search.fit(X_train, y_train)"
   ]
  },
  {
   "cell_type": "code",
   "execution_count": 50,
   "metadata": {},
   "outputs": [
    {
     "data": {
      "text/plain": [
       "{'onevsrestclassifier__estimator__n_neighbors': 3}"
      ]
     },
     "execution_count": 50,
     "metadata": {},
     "output_type": "execute_result"
    }
   ],
   "source": [
    "knn_search.best_params_"
   ]
  },
  {
   "cell_type": "code",
   "execution_count": 51,
   "metadata": {},
   "outputs": [
    {
     "data": {
      "text/plain": [
       "0.6748514851485148"
      ]
     },
     "execution_count": 51,
     "metadata": {},
     "output_type": "execute_result"
    }
   ],
   "source": [
    "knn_search.best_score_"
   ]
  },
  {
   "cell_type": "markdown",
   "metadata": {},
   "source": [
    "<b> Gradien Boosting"
   ]
  },
  {
   "cell_type": "code",
   "execution_count": 56,
   "metadata": {},
   "outputs": [],
   "source": [
    "gbc_parameters = {'onevsrestclassifier__estimator__learning_rate': [0.001,],\n",
    "                  'onevsrestclassifier__estimator__max_depth': [5,7], \n",
    "                  'onevsrestclassifier__estimator__min_samples_split': [3, 5], \n",
    "                  'onevsrestclassifier__estimator__n_estimators': [200,250, 300],\n",
    "                  'onevsrestclassifier__estimator__random_state':[seed]\n",
    "                 }"
   ]
  },
  {
   "cell_type": "code",
   "execution_count": 57,
   "metadata": {},
   "outputs": [],
   "source": [
    "gbc_pipeline = make_pipeline(*feature_pipeline, OneVsRestClassifier(GradientBoostingClassifier()))"
   ]
  },
  {
   "cell_type": "code",
   "execution_count": 58,
   "metadata": {},
   "outputs": [
    {
     "name": "stdout",
     "output_type": "stream",
     "text": [
      "Wall time: 24min 27s\n"
     ]
    },
    {
     "data": {
      "text/plain": [
       "GridSearchCV(cv=ShuffleSplit(n_splits=10, random_state=1478, test_size=0.2, train_size=None),\n",
       "             error_score='raise',\n",
       "             estimator=Pipeline(steps=[('get_items_in_description',\n",
       "                                        get_items_in_description(new_variable_names=['ItemsInDescription'],\n",
       "                                                                 variables=['Item_Description'])),\n",
       "                                       ('get_keywords_from_description',\n",
       "                                        get_keywords_from_description(keywords=['Travel '\n",
       "                                                                                'and '...\n",
       "                                        OneVsRestClassifier(estimator=GradientBoostingClassifier()))]),\n",
       "             n_jobs=-1,\n",
       "             param_grid={'onevsrestclassifier__estimator__learning_rate': [0.001],\n",
       "                         'onevsrestclassifier__estimator__max_depth': [5, 7],\n",
       "                         'onevsrestclassifier__estimator__min_samples_split': [3,\n",
       "                                                                               5],\n",
       "                         'onevsrestclassifier__estimator__n_estimators': [200,\n",
       "                                                                          250,\n",
       "                                                                          300],\n",
       "                         'onevsrestclassifier__estimator__random_state': [12]},\n",
       "             scoring='accuracy')"
      ]
     },
     "execution_count": 58,
     "metadata": {},
     "output_type": "execute_result"
    }
   ],
   "source": [
    "%%time\n",
    "gbc_search =  GridSearchCV(gbc_pipeline, param_grid = gbc_parameters, cv = cv_setting, \n",
    "                           scoring = 'accuracy', n_jobs = n_jobs_cv, error_score=\"raise\")\n",
    "gbc_search.fit(X_train, y_train)"
   ]
  },
  {
   "cell_type": "code",
   "execution_count": 59,
   "metadata": {},
   "outputs": [
    {
     "data": {
      "text/plain": [
       "{'onevsrestclassifier__estimator__learning_rate': 0.001,\n",
       " 'onevsrestclassifier__estimator__max_depth': 7,\n",
       " 'onevsrestclassifier__estimator__min_samples_split': 3,\n",
       " 'onevsrestclassifier__estimator__n_estimators': 300,\n",
       " 'onevsrestclassifier__estimator__random_state': 12}"
      ]
     },
     "execution_count": 59,
     "metadata": {},
     "output_type": "execute_result"
    }
   ],
   "source": [
    "gbc_search.best_params_"
   ]
  },
  {
   "cell_type": "code",
   "execution_count": 60,
   "metadata": {},
   "outputs": [
    {
     "data": {
      "text/plain": [
       "0.9774257425742574"
      ]
     },
     "execution_count": 60,
     "metadata": {},
     "output_type": "execute_result"
    }
   ],
   "source": [
    "gbc_search.best_score_"
   ]
  },
  {
   "cell_type": "markdown",
   "metadata": {},
   "source": [
    "#### Validation and model performance assessment"
   ]
  },
  {
   "cell_type": "code",
   "execution_count": 61,
   "metadata": {},
   "outputs": [],
   "source": [
    "Labels = [map_target[key] for key in map_target.keys()]"
   ]
  },
  {
   "cell_type": "markdown",
   "metadata": {},
   "source": [
    "<b> Knn"
   ]
  },
  {
   "cell_type": "code",
   "execution_count": 62,
   "metadata": {},
   "outputs": [],
   "source": [
    "y_val_pred = knn_search.predict(X_val)"
   ]
  },
  {
   "cell_type": "code",
   "execution_count": 63,
   "metadata": {},
   "outputs": [],
   "source": [
    "data_contrast = {\n",
    "    'True': y_val,\n",
    "    'Prediction': y_val_pred\n",
    "}\n",
    "data_contrast = pd.DataFrame(data_contrast).reset_index(drop = True).reset_index()"
   ]
  },
  {
   "cell_type": "code",
   "execution_count": 64,
   "metadata": {},
   "outputs": [],
   "source": [
    "confusion_matrix = data_contrast.pivot_table(index = 'True', columns = 'Prediction', aggfunc = 'count', values= 'index').fillna(0)"
   ]
  },
  {
   "cell_type": "code",
   "execution_count": 65,
   "metadata": {},
   "outputs": [
    {
     "data": {
      "image/png": "[encoded data removed]",
      "text/plain": [
       "<Figure size 842.4x595.44 with 2 Axes>"
      ]
     },
     "metadata": {},
     "output_type": "display_data"
    }
   ],
   "source": [
    "sns.set(rc={'figure.figsize':(11.7,8.27)})\n",
    "ax = sns.heatmap(confusion_matrix)"
   ]
  },
  {
   "cell_type": "markdown",
   "metadata": {},
   "source": [
    "<b> Gradient boosting "
   ]
  },
  {
   "cell_type": "code",
   "execution_count": 66,
   "metadata": {},
   "outputs": [],
   "source": [
    "y_val_pred = gbc_search.predict(X_val)"
   ]
  },
  {
   "cell_type": "code",
   "execution_count": 67,
   "metadata": {},
   "outputs": [],
   "source": [
    "data_contrast = {\n",
    "    'True': y_val,\n",
    "    'Prediction': y_val_pred\n",
    "}\n",
    "data_contrast = pd.DataFrame(data_contrast).reset_index(drop = True).reset_index()"
   ]
  },
  {
   "cell_type": "code",
   "execution_count": 68,
   "metadata": {},
   "outputs": [],
   "source": [
    "confusion_matrix = data_contrast.pivot_table(index = 'True', columns = 'Prediction', aggfunc = 'count', values= 'index').fillna(0)"
   ]
  },
  {
   "cell_type": "code",
   "execution_count": 69,
   "metadata": {},
   "outputs": [
    {
     "data": {
      "image/png": "[encoded data removed]",
      "text/plain": [
       "<Figure size 842.4x595.44 with 2 Axes>"
      ]
     },
     "metadata": {},
     "output_type": "display_data"
    }
   ],
   "source": [
    "sns.set(rc={'figure.figsize':(11.7,8.27)})\n",
    "ax = sns.heatmap(confusion_matrix)"
   ]
  },
  {
   "cell_type": "code",
   "execution_count": 85,
   "metadata": {},
   "outputs": [],
   "source": [
    "gbc_probas = gbc_search.predict_proba(X_val)\n",
    "knn_probas = knn_search.predict_proba(X_val)\n",
    "\n",
    "gbc_roc_ = round(roc_auc_score(y_val, gbc_probas, multi_class='ovo', labels = Labels),4)\n",
    "knn_roc_ = round(roc_auc_score(y_val, knn_probas, multi_class='ovo', labels = Labels),4)"
   ]
  },
  {
   "cell_type": "code",
   "execution_count": 86,
   "metadata": {},
   "outputs": [
    {
     "name": "stdout",
     "output_type": "stream",
     "text": [
      "the roc_auc score are: knn 0.8145 and gbc 0.9952\n"
     ]
    }
   ],
   "source": [
    "print(f'the roc_auc score are: knn {knn_roc_} and gbc {gbc_roc_}')"
   ]
  },
  {
   "cell_type": "markdown",
   "metadata": {},
   "source": [
    "* the winner is the gradient boosing classifier"
   ]
  },
  {
   "cell_type": "markdown",
   "metadata": {},
   "source": [
    "### Final Pipeline"
   ]
  },
  {
   "cell_type": "code",
   "execution_count": 43,
   "metadata": {},
   "outputs": [],
   "source": [
    "gbc_parameters = {\n",
    "    'learning_rate': 0.001,\n",
    "    'max_depth': 7,\n",
    "    'min_samples_split': 3,\n",
    "    'n_estimators': 300,\n",
    "    'random_state':seed,\n",
    "}"
   ]
  },
  {
   "cell_type": "code",
   "execution_count": 44,
   "metadata": {},
   "outputs": [],
   "source": [
    "#saving json\n",
    "with open('gbc_parameters.json', 'w') as fp:\n",
    "    json.dump(gbc_parameters, fp)"
   ]
  },
  {
   "cell_type": "code",
   "execution_count": 45,
   "metadata": {},
   "outputs": [],
   "source": [
    "#loading json\n",
    "with open('gbc_parameters.json', 'r') as fp:\n",
    "    gbc_parameters = json.load(fp)"
   ]
  },
  {
   "cell_type": "code",
   "execution_count": 46,
   "metadata": {},
   "outputs": [],
   "source": [
    "category_prediction_pipeline = make_pipeline(\n",
    "    *feature_pipeline,\n",
    "    OneVsRestClassifier(GradientBoostingClassifier(**gbc_parameters))\n",
    ")"
   ]
  },
  {
   "cell_type": "code",
   "execution_count": 47,
   "metadata": {},
   "outputs": [
    {
     "data": {
      "text/plain": [
       "Pipeline(steps=[('get_items_in_description',\n",
       "                 get_items_in_description(new_variable_names=['ItemsInDescription'],\n",
       "                                          variables=['Item_Description'])),\n",
       "                ('get_keywords_from_description',\n",
       "                 get_keywords_from_description(keywords=['Travel and '\n",
       "                                                         'Entertainment|Company '\n",
       "                                                         'Car|Corporate '\n",
       "                                                         'Services|Auto '\n",
       "                                                         'Leasing|General '\n",
       "                                                         'Contractor|Store '\n",
       "                                                         'Construction|Ground '\n",
       "                                                         'Transportati...\n",
       "                 DropFeatures(features_to_drop=['Inv_Id', 'Vendor_Code',\n",
       "                                                'GL_Code',\n",
       "                                                'Item_Description'])),\n",
       "                ('custom_fillna',\n",
       "                 Custom_Fillna(fill_value=0,\n",
       "                               variables=['TypeEnt_number', 'KeyWords',\n",
       "                                          'CompanyFoundType', 'YearFound',\n",
       "                                          'MonthFound'])),\n",
       "                ('onevsrestclassifier',\n",
       "                 OneVsRestClassifier(estimator=GradientBoostingClassifier(learning_rate=0.001,\n",
       "                                                                          max_depth=7,\n",
       "                                                                          min_samples_split=3,\n",
       "                                                                          n_estimators=300,\n",
       "                                                                          random_state=12)))])"
      ]
     },
     "execution_count": 47,
     "metadata": {},
     "output_type": "execute_result"
    }
   ],
   "source": [
    "category_prediction_pipeline.fit(X_train, y_train)"
   ]
  },
  {
   "cell_type": "markdown",
   "metadata": {},
   "source": [
    "<b> test data"
   ]
  },
  {
   "cell_type": "code",
   "execution_count": 48,
   "metadata": {},
   "outputs": [],
   "source": [
    "X_test = test_data[initial_features]"
   ]
  },
  {
   "cell_type": "code",
   "execution_count": 92,
   "metadata": {},
   "outputs": [],
   "source": [
    "y_test_pred = category_prediction_pipeline.predict(X_test)"
   ]
  },
  {
   "cell_type": "code",
   "execution_count": 93,
   "metadata": {},
   "outputs": [
    {
     "data": {
      "text/plain": [
       "(2446,)"
      ]
     },
     "execution_count": 93,
     "metadata": {},
     "output_type": "execute_result"
    }
   ],
   "source": [
    "y_test_pred.shape"
   ]
  },
  {
   "cell_type": "code",
   "execution_count": 94,
   "metadata": {},
   "outputs": [],
   "source": [
    "X_test['yhat'] = y_test_pred"
   ]
  },
  {
   "cell_type": "code",
   "execution_count": 95,
   "metadata": {},
   "outputs": [
    {
     "data": {
      "text/html": [
       "<div>\n",
       "<style scoped>\n",
       "    .dataframe tbody tr th:only-of-type {\n",
       "        vertical-align: middle;\n",
       "    }\n",
       "\n",
       "    .dataframe tbody tr th {\n",
       "        vertical-align: top;\n",
       "    }\n",
       "\n",
       "    .dataframe thead th {\n",
       "        text-align: right;\n",
       "    }\n",
       "</style>\n",
       "<table border=\"1\" class=\"dataframe\">\n",
       "  <thead>\n",
       "    <tr style=\"text-align: right;\">\n",
       "      <th></th>\n",
       "      <th>Inv_Id</th>\n",
       "      <th>Vendor_Code</th>\n",
       "      <th>GL_Code</th>\n",
       "      <th>Inv_Amt</th>\n",
       "      <th>Item_Description</th>\n",
       "      <th>yhat</th>\n",
       "    </tr>\n",
       "  </thead>\n",
       "  <tbody>\n",
       "    <tr>\n",
       "      <th>0</th>\n",
       "      <td>15003</td>\n",
       "      <td>VENDOR-2513</td>\n",
       "      <td>GL-6050310</td>\n",
       "      <td>56.13</td>\n",
       "      <td>Travel and Entertainment Miscellaneous Company...</td>\n",
       "      <td>35</td>\n",
       "    </tr>\n",
       "    <tr>\n",
       "      <th>1</th>\n",
       "      <td>15008</td>\n",
       "      <td>VENDOR-1044</td>\n",
       "      <td>GL-6101400</td>\n",
       "      <td>96.56</td>\n",
       "      <td>Final Site Clean Up Store Construction Advance...</td>\n",
       "      <td>33</td>\n",
       "    </tr>\n",
       "    <tr>\n",
       "      <th>2</th>\n",
       "      <td>15013</td>\n",
       "      <td>VENDOR-1254</td>\n",
       "      <td>GL-6101400</td>\n",
       "      <td>55.93</td>\n",
       "      <td>Arabian American Development Co Final Site Cle...</td>\n",
       "      <td>33</td>\n",
       "    </tr>\n",
       "    <tr>\n",
       "      <th>3</th>\n",
       "      <td>15019</td>\n",
       "      <td>VENDOR-1331</td>\n",
       "      <td>GL-2182000</td>\n",
       "      <td>32.62</td>\n",
       "      <td>Corporate Services Contingent Labor/Temp Labor...</td>\n",
       "      <td>31</td>\n",
       "    </tr>\n",
       "    <tr>\n",
       "      <th>4</th>\n",
       "      <td>15020</td>\n",
       "      <td>VENDOR-2513</td>\n",
       "      <td>GL-6050310</td>\n",
       "      <td>25.81</td>\n",
       "      <td>Fortune National Corp Miscellaneous Company Ca...</td>\n",
       "      <td>35</td>\n",
       "    </tr>\n",
       "  </tbody>\n",
       "</table>\n",
       "</div>"
      ],
      "text/plain": [
       "   Inv_Id  Vendor_Code     GL_Code  Inv_Amt  \\\n",
       "0   15003  VENDOR-2513  GL-6050310    56.13   \n",
       "1   15008  VENDOR-1044  GL-6101400    96.56   \n",
       "2   15013  VENDOR-1254  GL-6101400    55.93   \n",
       "3   15019  VENDOR-1331  GL-2182000    32.62   \n",
       "4   15020  VENDOR-2513  GL-6050310    25.81   \n",
       "\n",
       "                                    Item_Description  yhat  \n",
       "0  Travel and Entertainment Miscellaneous Company...    35  \n",
       "1  Final Site Clean Up Store Construction Advance...    33  \n",
       "2  Arabian American Development Co Final Site Cle...    33  \n",
       "3  Corporate Services Contingent Labor/Temp Labor...    31  \n",
       "4  Fortune National Corp Miscellaneous Company Ca...    35  "
      ]
     },
     "execution_count": 95,
     "metadata": {},
     "output_type": "execute_result"
    }
   ],
   "source": [
    "X_test.head()"
   ]
  },
  {
   "cell_type": "markdown",
   "metadata": {},
   "source": [
    "## saving machine"
   ]
  },
  {
   "cell_type": "code",
   "execution_count": 96,
   "metadata": {},
   "outputs": [
    {
     "data": {
      "text/plain": [
       "['category_prediction_pipeline.joblib']"
      ]
     },
     "execution_count": 96,
     "metadata": {},
     "output_type": "execute_result"
    }
   ],
   "source": [
    "joblib.dump(category_prediction_pipeline, 'category_prediction_pipeline.joblib') "
   ]
  }
 ],
 "metadata": {
  "kernelspec": {
   "display_name": "Python 3",
   "language": "python",
   "name": "python3"
  },
  "language_info": {
   "codemirror_mode": {
    "name": "ipython",
    "version": 3
   },
   "file_extension": ".py",
   "mimetype": "text/x-python",
   "name": "python",
   "nbconvert_exporter": "python",
   "pygments_lexer": "ipython3",
   "version": "3.7.6"
  }
 },
 "nbformat": 4,
 "nbformat_minor": 4
}
