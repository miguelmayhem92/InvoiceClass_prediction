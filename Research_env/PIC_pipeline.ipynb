{
 "cells": [
  {
   "cell_type": "markdown",
   "metadata": {},
   "source": [
    "# Product Invoice Classification"
   ]
  },
  {
   "cell_type": "markdown",
   "metadata": {},
   "source": [
    "* Inv_ID (Invoice ID) : Unique number representing Invoice created by supplier/vendor\n",
    "\n",
    "* Vendor Code (Vendor ID) : Unique number representing Vendor/Seller in the procurement system\n",
    "\n",
    "* GL_Code: Account’s Reference ID\n",
    "\n",
    "* Inv_Amt : Invoice Amount\n",
    "\n",
    "* Item Description : Description of Item Purchased Example: “Corporate Services Human Resources Contingent Labor/Temp Labor Contingent Labor/Temp Labor”\n",
    "\n",
    "* Product Category : Category of Product for which Invoice is raised A pseudo product category is represented in the dataset as CLASS-???, where ? is a digit.* "
   ]
  },
  {
   "cell_type": "markdown",
   "metadata": {},
   "source": [
    "## Imports"
   ]
  },
  {
   "cell_type": "code",
   "execution_count": 1,
   "metadata": {},
   "outputs": [],
   "source": [
    "import pandas as pd\n",
    "import numpy as np"
   ]
  },
  {
   "cell_type": "code",
   "execution_count": 2,
   "metadata": {},
   "outputs": [],
   "source": [
    "# for saving the pipeline\n",
    "import joblib"
   ]
  },
  {
   "cell_type": "code",
   "execution_count": 3,
   "metadata": {},
   "outputs": [],
   "source": [
    "from sklearn.model_selection import train_test_split"
   ]
  },
  {
   "cell_type": "code",
   "execution_count": 4,
   "metadata": {},
   "outputs": [],
   "source": [
    "from sklearn.neighbors import KNeighborsClassifier"
   ]
  },
  {
   "cell_type": "code",
   "execution_count": 5,
   "metadata": {},
   "outputs": [],
   "source": [
    "from sklearn.pipeline import Pipeline"
   ]
  },
  {
   "cell_type": "code",
   "execution_count": 6,
   "metadata": {},
   "outputs": [],
   "source": [
    "from sklearn.base import BaseEstimator, TransformerMixin"
   ]
  },
  {
   "cell_type": "code",
   "execution_count": 7,
   "metadata": {},
   "outputs": [],
   "source": [
    "from feature_engine.encoding import OrdinalEncoder\n",
    "from feature_engine.selection import DropFeatures"
   ]
  },
  {
   "cell_type": "code",
   "execution_count": 8,
   "metadata": {},
   "outputs": [],
   "source": [
    "from custom_functions import Mapper, Custom_Fillna"
   ]
  },
  {
   "cell_type": "markdown",
   "metadata": {},
   "source": [
    "## Data"
   ]
  },
  {
   "cell_type": "code",
   "execution_count": 9,
   "metadata": {},
   "outputs": [],
   "source": [
    "train_data = pd.read_csv('Train.csv')\n",
    "test_data = pd.read_csv('Test.csv')\n",
    "sample_submission_data = pd.read_csv('sample_submission.csv')"
   ]
  },
  {
   "cell_type": "markdown",
   "metadata": {},
   "source": [
    "## Transformations"
   ]
  },
  {
   "cell_type": "code",
   "execution_count": 10,
   "metadata": {},
   "outputs": [],
   "source": [
    "## map for the target\n",
    "tmp = train_data.groupby('Product_Category', as_index = False).agg(counts = ('Inv_Id','count')).sort_values('counts')\n",
    "tmp['ranks'] = range(1,len(tmp)+1)\n",
    "map_target = dict(tmp[['Product_Category','ranks']].values)"
   ]
  },
  {
   "cell_type": "code",
   "execution_count": 11,
   "metadata": {},
   "outputs": [],
   "source": [
    "train_data['Map_Product_Category'] = train_data.Product_Category.map(map_target)"
   ]
  },
  {
   "cell_type": "code",
   "execution_count": 12,
   "metadata": {},
   "outputs": [],
   "source": [
    "def splitter(data):\n",
    "    data[['TypeEnt','TypeEnt_number']] = data.Vendor_Code.str.split('-',expand=True)\n",
    "    data[['GCL','GCL_number']] = data.GL_Code.str.split('-',expand=True)\n",
    "    return data"
   ]
  },
  {
   "cell_type": "code",
   "execution_count": 13,
   "metadata": {},
   "outputs": [],
   "source": [
    "train_data = splitter(data = train_data)"
   ]
  },
  {
   "cell_type": "markdown",
   "metadata": {},
   "source": [
    "###  split data"
   ]
  },
  {
   "cell_type": "code",
   "execution_count": 14,
   "metadata": {},
   "outputs": [],
   "source": [
    "seed = 12"
   ]
  },
  {
   "cell_type": "code",
   "execution_count": 15,
   "metadata": {},
   "outputs": [],
   "source": [
    "X = train_data[['Inv_Id', 'Vendor_Code', 'GL_Code', 'Inv_Amt', 'Item_Description']]\n",
    "y = train_data.Map_Product_Category"
   ]
  },
  {
   "cell_type": "code",
   "execution_count": 16,
   "metadata": {},
   "outputs": [],
   "source": [
    "X_train, X_val, y_train, y_val = train_test_split(X, y, test_size=0.33, random_state=seed)"
   ]
  },
  {
   "cell_type": "markdown",
   "metadata": {},
   "source": [
    "### Pipeline"
   ]
  },
  {
   "cell_type": "markdown",
   "metadata": {},
   "source": [
    "<b> expanding"
   ]
  },
  {
   "cell_type": "code",
   "execution_count": 17,
   "metadata": {},
   "outputs": [],
   "source": [
    "X_train = splitter(data = X_train)"
   ]
  },
  {
   "cell_type": "markdown",
   "metadata": {},
   "source": [
    "<b> maps"
   ]
  },
  {
   "cell_type": "code",
   "execution_count": 18,
   "metadata": {},
   "outputs": [],
   "source": [
    "def get_dictionary_rank1_tomap(data, variable):\n",
    "    tmp = data.groupby([variable,'Map_Product_Category'], as_index = False).agg(counts = ('Inv_Id','count'))\n",
    "    tmp[\"Rank\"] = tmp.groupby([variable])[\"counts\"].rank(\"dense\", ascending=False)\n",
    "    tmp = tmp[tmp.Rank == 1]\n",
    "    map_rank =  dict(tmp[[variable,'Map_Product_Category']].values)\n",
    "    return map_rank"
   ]
  },
  {
   "cell_type": "code",
   "execution_count": 19,
   "metadata": {},
   "outputs": [],
   "source": [
    "TypeEnt_number_maps = get_dictionary_rank1_tomap(data = train_data, variable = 'TypeEnt_number')"
   ]
  },
  {
   "cell_type": "code",
   "execution_count": 38,
   "metadata": {},
   "outputs": [],
   "source": [
    "#TypeEnt_number_maps"
   ]
  },
  {
   "cell_type": "code",
   "execution_count": 21,
   "metadata": {},
   "outputs": [],
   "source": [
    "to_drop = ['Inv_Id','Vendor_Code','GL_Code', 'Item_Description','TypeEnt','GCL']"
   ]
  },
  {
   "cell_type": "markdown",
   "metadata": {},
   "source": [
    "<b> the pipeline"
   ]
  },
  {
   "cell_type": "code",
   "execution_count": 22,
   "metadata": {},
   "outputs": [],
   "source": [
    "category_prediction_pipeline = Pipeline([\n",
    "    ('GCL_Code-cardinal-ordering',\n",
    "     OrdinalEncoder(encoding_method='ordered', variables=['GCL_number'])\n",
    "    ),\n",
    "    \n",
    "    ('TypeEnt_number_map_modes', \n",
    "    Mapper(variables = ['TypeEnt_number'], mappings = TypeEnt_number_maps)\n",
    "    ),\n",
    "    \n",
    "    ('drop_features',\n",
    "     DropFeatures(features_to_drop= to_drop)\n",
    "    ),\n",
    "    \n",
    "    ('Fill_na',\n",
    "    Custom_Fillna(variables = ['TypeEnt_number'], fill_value = 0)\n",
    "    ),\n",
    "    \n",
    "    ('KNN', KNeighborsClassifier(n_neighbors = 4 ))\n",
    "    \n",
    "])"
   ]
  },
  {
   "cell_type": "code",
   "execution_count": 23,
   "metadata": {},
   "outputs": [
    {
     "data": {
      "text/plain": [
       "Pipeline(steps=[('GCL_Code-cardinal-ordering',\n",
       "                 OrdinalEncoder(variables=['GCL_number'])),\n",
       "                ('TypeEnt_number_map_modes',\n",
       "                 Mapper(mappings={'1000': 16, '1003': 35, '1005': 35,\n",
       "                                  '1006': 35, '1007': 35, '1008': 35,\n",
       "                                  '1010': 35, '1011': 35, '1012': 35,\n",
       "                                  '1013': 35, '1014': 35, '1016': 35,\n",
       "                                  '1018': 35, '1019': 35, '1021': 35,\n",
       "                                  '1022': 35, '1024': 35, '1025': 35,\n",
       "                                  '1026': 35, '1027': 35, '1028': 9, '1030': 35,\n",
       "                                  '1031': 35, '1032': 35, '1033': 35,\n",
       "                                  '1034': 25, '1035': 29, '1036': 27,\n",
       "                                  '1037': 35, '1038': 35, ...},\n",
       "                        variables=['TypeEnt_number'])),\n",
       "                ('drop_features',\n",
       "                 DropFeatures(features_to_drop=['Inv_Id', 'Vendor_Code',\n",
       "                                                'GL_Code', 'Item_Description',\n",
       "                                                'TypeEnt', 'GCL'])),\n",
       "                ('Fill_na',\n",
       "                 Custom_Fillna(fill_value=0, variables=['TypeEnt_number'])),\n",
       "                ('KNN', KNeighborsClassifier(n_neighbors=4))])"
      ]
     },
     "execution_count": 23,
     "metadata": {},
     "output_type": "execute_result"
    }
   ],
   "source": [
    "category_prediction_pipeline.fit(X_train, y_train)"
   ]
  },
  {
   "cell_type": "code",
   "execution_count": 26,
   "metadata": {},
   "outputs": [],
   "source": [
    "y_train_pred = category_prediction_pipeline.predict(X_train)"
   ]
  },
  {
   "cell_type": "code",
   "execution_count": 27,
   "metadata": {},
   "outputs": [
    {
     "data": {
      "text/plain": [
       "array([32, 35, 29, ..., 35, 36, 34], dtype=int64)"
      ]
     },
     "execution_count": 27,
     "metadata": {},
     "output_type": "execute_result"
    }
   ],
   "source": [
    "y_train_pred"
   ]
  },
  {
   "cell_type": "markdown",
   "metadata": {},
   "source": [
    "<b> validation"
   ]
  },
  {
   "cell_type": "code",
   "execution_count": 28,
   "metadata": {},
   "outputs": [],
   "source": [
    "X_val = splitter(data = X_val)"
   ]
  },
  {
   "cell_type": "code",
   "execution_count": 30,
   "metadata": {},
   "outputs": [],
   "source": [
    "y_val_pred = category_prediction_pipeline.predict(X_val)"
   ]
  },
  {
   "cell_type": "code",
   "execution_count": 31,
   "metadata": {},
   "outputs": [
    {
     "data": {
      "text/plain": [
       "array([34, 36, 27, ..., 30, 33, 33], dtype=int64)"
      ]
     },
     "execution_count": 31,
     "metadata": {},
     "output_type": "execute_result"
    }
   ],
   "source": [
    "y_val_pred"
   ]
  },
  {
   "cell_type": "markdown",
   "metadata": {},
   "source": [
    "<b> test data"
   ]
  },
  {
   "cell_type": "code",
   "execution_count": 32,
   "metadata": {},
   "outputs": [],
   "source": [
    "test_data = splitter(data = test_data)"
   ]
  },
  {
   "cell_type": "code",
   "execution_count": 33,
   "metadata": {},
   "outputs": [],
   "source": [
    "X_test = test_data[['Inv_Id', 'Vendor_Code', 'GL_Code', 'Inv_Amt', 'Item_Description']]"
   ]
  },
  {
   "cell_type": "code",
   "execution_count": 34,
   "metadata": {},
   "outputs": [
    {
     "name": "stderr",
     "output_type": "stream",
     "text": [
      "C:\\Users\\Miguel\\anaconda3\\lib\\site-packages\\pandas\\core\\frame.py:3641: SettingWithCopyWarning: \n",
      "A value is trying to be set on a copy of a slice from a DataFrame.\n",
      "Try using .loc[row_indexer,col_indexer] = value instead\n",
      "\n",
      "See the caveats in the documentation: https://pandas.pydata.org/pandas-docs/stable/user_guide/indexing.html#returning-a-view-versus-a-copy\n",
      "  self[k1] = value[k2]\n"
     ]
    }
   ],
   "source": [
    "X_test = splitter(data = X_test)"
   ]
  },
  {
   "cell_type": "code",
   "execution_count": 35,
   "metadata": {},
   "outputs": [],
   "source": [
    "y_test_pred = category_prediction_pipeline.predict(X_test)"
   ]
  },
  {
   "cell_type": "code",
   "execution_count": 36,
   "metadata": {},
   "outputs": [
    {
     "data": {
      "text/plain": [
       "array([36, 34, 34, ..., 33, 31, 16], dtype=int64)"
      ]
     },
     "execution_count": 36,
     "metadata": {},
     "output_type": "execute_result"
    }
   ],
   "source": [
    "y_test_pred"
   ]
  },
  {
   "cell_type": "markdown",
   "metadata": {},
   "source": [
    "## saving machine"
   ]
  },
  {
   "cell_type": "code",
   "execution_count": 37,
   "metadata": {},
   "outputs": [
    {
     "data": {
      "text/plain": [
       "['category_prediction_pipeline.joblib']"
      ]
     },
     "execution_count": 37,
     "metadata": {},
     "output_type": "execute_result"
    }
   ],
   "source": [
    "joblib.dump(category_prediction_pipeline, 'category_prediction_pipeline.joblib') "
   ]
  }
 ],
 "metadata": {
  "kernelspec": {
   "display_name": "Python 3",
   "language": "python",
   "name": "python3"
  },
  "language_info": {
   "codemirror_mode": {
    "name": "ipython",
    "version": 3
   },
   "file_extension": ".py",
   "mimetype": "text/x-python",
   "name": "python",
   "nbconvert_exporter": "python",
   "pygments_lexer": "ipython3",
   "version": "3.7.6"
  }
 },
 "nbformat": 4,
 "nbformat_minor": 4
}
