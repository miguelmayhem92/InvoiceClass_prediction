{
 "cells": [
  {
   "cell_type": "markdown",
   "metadata": {},
   "source": [
    "# Product Invoice Classification"
   ]
  },
  {
   "cell_type": "markdown",
   "metadata": {},
   "source": [
    "* Inv_ID (Invoice ID) : Unique number representing Invoice created by supplier/vendor\n",
    "\n",
    "* Vendor Code (Vendor ID) : Unique number representing Vendor/Seller in the procurement system\n",
    "\n",
    "* GL_Code: Account’s Reference ID\n",
    "\n",
    "* Inv_Amt : Invoice Amount\n",
    "\n",
    "* Item Description : Description of Item Purchased Example: “Corporate Services Human Resources Contingent Labor/Temp Labor Contingent Labor/Temp Labor”\n",
    "\n",
    "* Product Category : Category of Product for which Invoice is raised A pseudo product category is represented in the dataset as CLASS-???, where ? is a digit.* "
   ]
  },
  {
   "cell_type": "markdown",
   "metadata": {},
   "source": [
    "## Imports"
   ]
  },
  {
   "cell_type": "code",
   "execution_count": 1,
   "metadata": {},
   "outputs": [],
   "source": [
    "import pandas as pd\n",
    "import numpy as np"
   ]
  },
  {
   "cell_type": "code",
   "execution_count": 2,
   "metadata": {},
   "outputs": [],
   "source": [
    "# for saving the pipeline\n",
    "import joblib"
   ]
  },
  {
   "cell_type": "code",
   "execution_count": 3,
   "metadata": {},
   "outputs": [],
   "source": [
    "from sklearn.model_selection import train_test_split,cross_val_score"
   ]
  },
  {
   "cell_type": "code",
   "execution_count": 4,
   "metadata": {},
   "outputs": [],
   "source": [
    "from sklearn.multiclass import OneVsRestClassifier\n",
    "from sklearn.neighbors import KNeighborsClassifier\n",
    "from sklearn.ensemble import GradientBoostingClassifier, BaggingClassifier"
   ]
  },
  {
   "cell_type": "code",
   "execution_count": 5,
   "metadata": {},
   "outputs": [],
   "source": [
    "from sklearn.pipeline import Pipeline, make_pipeline,make_union"
   ]
  },
  {
   "cell_type": "code",
   "execution_count": 6,
   "metadata": {},
   "outputs": [],
   "source": [
    "from sklearn.base import BaseEstimator, TransformerMixin"
   ]
  },
  {
   "cell_type": "code",
   "execution_count": 7,
   "metadata": {},
   "outputs": [],
   "source": [
    "from feature_engine.encoding import OrdinalEncoder\n",
    "from feature_engine.selection import DropFeatures"
   ]
  },
  {
   "cell_type": "code",
   "execution_count": 8,
   "metadata": {},
   "outputs": [],
   "source": [
    "from sklearn.metrics import f1_score, roc_auc_score"
   ]
  },
  {
   "cell_type": "code",
   "execution_count": 9,
   "metadata": {},
   "outputs": [],
   "source": [
    "from custom_functions import Mapper, Custom_Fillna, splitter\n",
    "from custom_functions import find_pattern, get_date, get_date_features\n",
    "from custom_functions import count_character, get_items_in_description, get_keywords_from_description\n",
    "from custom_functions import my_train_test_split_with_balance"
   ]
  },
  {
   "cell_type": "code",
   "execution_count": 10,
   "metadata": {},
   "outputs": [],
   "source": [
    "import json\n",
    "import re\n",
    "import itertools\n",
    "import collections"
   ]
  },
  {
   "cell_type": "code",
   "execution_count": 11,
   "metadata": {},
   "outputs": [],
   "source": [
    "from sklearn.model_selection import GridSearchCV\n",
    "from sklearn.model_selection import ShuffleSplit"
   ]
  },
  {
   "cell_type": "code",
   "execution_count": 12,
   "metadata": {},
   "outputs": [],
   "source": [
    "import warnings\n",
    "warnings.filterwarnings('ignore')"
   ]
  },
  {
   "cell_type": "code",
   "execution_count": 13,
   "metadata": {},
   "outputs": [],
   "source": [
    "import matplotlib.pyplot as plt\n",
    "import seaborn as sns; sns.set_theme()"
   ]
  },
  {
   "cell_type": "code",
   "execution_count": 14,
   "metadata": {},
   "outputs": [],
   "source": [
    "import optuna"
   ]
  },
  {
   "cell_type": "raw",
   "metadata": {},
   "source": [
    "import pandas as pd\n",
    "import numpy as np\n",
    "import sklearn as skl\n",
    "import feature_engine as fe\n",
    "import joblib as jbl"
   ]
  },
  {
   "cell_type": "raw",
   "metadata": {},
   "source": [
    "print(pd.__version__)\n",
    "print(np.__version__)\n",
    "print(skl.__version__)\n",
    "print(fe.__version__)\n",
    "print(jbl.__version__)"
   ]
  },
  {
   "cell_type": "markdown",
   "metadata": {},
   "source": [
    "## Data"
   ]
  },
  {
   "cell_type": "code",
   "execution_count": 15,
   "metadata": {},
   "outputs": [],
   "source": [
    "train_data = pd.read_csv('Train.csv')\n",
    "test_data = pd.read_csv('Test.csv')\n",
    "sample_submission_data = pd.read_csv('sample_submission.csv')"
   ]
  },
  {
   "cell_type": "markdown",
   "metadata": {},
   "source": [
    "## Transformations"
   ]
  },
  {
   "cell_type": "code",
   "execution_count": 16,
   "metadata": {},
   "outputs": [],
   "source": [
    "## map for the target\n",
    "tmp = train_data.groupby('Product_Category', as_index = False).agg(counts = ('Inv_Id','count')).sort_values('counts')\n",
    "tmp['ranks'] = range(0,len(tmp))\n",
    "map_target = dict(tmp[['Product_Category','ranks']].values)"
   ]
  },
  {
   "cell_type": "code",
   "execution_count": 17,
   "metadata": {},
   "outputs": [],
   "source": [
    "#saving json\n",
    "with open('map_target.json', 'w') as fp:\n",
    "    json.dump(map_target, fp)"
   ]
  },
  {
   "cell_type": "code",
   "execution_count": 18,
   "metadata": {},
   "outputs": [],
   "source": [
    "#loading json\n",
    "with open('map_target.json', 'r') as fp:\n",
    "    map_target = json.load(fp)"
   ]
  },
  {
   "cell_type": "code",
   "execution_count": 19,
   "metadata": {},
   "outputs": [],
   "source": [
    "train_data['Map_Product_Category'] = train_data.Product_Category.map(map_target)"
   ]
  },
  {
   "cell_type": "markdown",
   "metadata": {},
   "source": [
    "###  split data"
   ]
  },
  {
   "cell_type": "code",
   "execution_count": 20,
   "metadata": {},
   "outputs": [],
   "source": [
    "seed = 12"
   ]
  },
  {
   "cell_type": "code",
   "execution_count": 21,
   "metadata": {},
   "outputs": [],
   "source": [
    "initial_features = ['Inv_Id', 'Vendor_Code', 'GL_Code', 'Inv_Amt', 'Item_Description']\n",
    "target = 'Map_Product_Category'"
   ]
  },
  {
   "cell_type": "code",
   "execution_count": 22,
   "metadata": {},
   "outputs": [],
   "source": [
    "new_train, val_tmp  = my_train_test_split_with_balance(data = train_data, test_size = 0.3, n = 30, threshold = 70, seed = seed)"
   ]
  },
  {
   "cell_type": "code",
   "execution_count": 23,
   "metadata": {},
   "outputs": [],
   "source": [
    "#def my_data_balance(data):"
   ]
  },
  {
   "cell_type": "code",
   "execution_count": 24,
   "metadata": {},
   "outputs": [
    {
     "data": {
      "text/plain": [
       "((5048, 8), (518, 8))"
      ]
     },
     "execution_count": 24,
     "metadata": {},
     "output_type": "execute_result"
    }
   ],
   "source": [
    "new_train.shape, val_tmp.shape"
   ]
  },
  {
   "cell_type": "code",
   "execution_count": 25,
   "metadata": {},
   "outputs": [],
   "source": [
    "X_train, y_train, X_val, y_val  = new_train[initial_features], new_train[target] , val_tmp[initial_features], val_tmp[target]"
   ]
  },
  {
   "cell_type": "markdown",
   "metadata": {},
   "source": [
    "### Pipeline"
   ]
  },
  {
   "cell_type": "markdown",
   "metadata": {},
   "source": [
    "<b> Getting date finder regex"
   ]
  },
  {
   "cell_type": "code",
   "execution_count": 26,
   "metadata": {},
   "outputs": [],
   "source": [
    "tmp_description = X_train[['Inv_Id','Item_Description']].copy()"
   ]
  },
  {
   "cell_type": "code",
   "execution_count": 27,
   "metadata": {},
   "outputs": [],
   "source": [
    "lists_description_split = [x.split('/') for x in tmp_description.Item_Description.unique()]\n",
    "lists_description_split = list(itertools.chain.from_iterable(lists_description_split))\n",
    "lists_description_split = list(set(lists_description_split))\n",
    "lists_description_split.sort()"
   ]
  },
  {
   "cell_type": "code",
   "execution_count": 28,
   "metadata": {},
   "outputs": [],
   "source": [
    "month_3chr = '|'.join(['Jan','Feb','Mar','Apr','May','Jun','Jul','Aug','Sep','Oct','Nov','Dec'] )"
   ]
  },
  {
   "cell_type": "code",
   "execution_count": 29,
   "metadata": {},
   "outputs": [],
   "source": [
    "month_rx = f'({month_3chr})'\n",
    "year_rx = '\\d{4}'"
   ]
  },
  {
   "cell_type": "code",
   "execution_count": 30,
   "metadata": {},
   "outputs": [],
   "source": [
    "regexs_dates = [f'{month_rx}{year_rx}',f'{month_rx}-{year_rx}',f'{month_rx} {year_rx}',\n",
    "        f'{year_rx}{month_rx}',f'{year_rx}-{month_rx}',f'{year_rx} {month_rx}',]\n",
    "regexs_dates =  '|'.join(regexs_dates)"
   ]
  },
  {
   "cell_type": "markdown",
   "metadata": {},
   "source": [
    "<b> regex for key words"
   ]
  },
  {
   "cell_type": "code",
   "execution_count": 31,
   "metadata": {},
   "outputs": [],
   "source": [
    "key_words = ['Travel and Entertainment','Company Car','Corporate Services', 'Auto Leasing','General Contractor','Store Construction',\n",
    "           'Ground Transportation','Base Rent','Final Site','Store Management','Site Clean Up', 'General Requirements', 'Real Estate','Media Buy',\n",
    "           'Trade Show','Contingent Labor','Repair and Maintenance','Agency Fees','Human Resources','Manufacturing','Fortune National','Events and Promotions',\n",
    "            'Laboratories', 'Artists & Models','National Advertising','Transportation Services',\n",
    "           'Miscellaneous']\n",
    "key_words_regex = '|'.join(key_words)"
   ]
  },
  {
   "cell_type": "markdown",
   "metadata": {},
   "source": [
    "<b> regex for company type"
   ]
  },
  {
   "cell_type": "code",
   "execution_count": 32,
   "metadata": {},
   "outputs": [],
   "source": [
    "type_company_regex = r'\\b Co\\b| Corp\\b| Inc\\b| Comp\\b\\b'"
   ]
  },
  {
   "cell_type": "code",
   "execution_count": 33,
   "metadata": {},
   "outputs": [],
   "source": [
    "regex_to_use ={\n",
    "    'dates_rx':regexs_dates,\n",
    "    'month_rx':month_rx,\n",
    "    'year_rx': year_rx,\n",
    "    'keywords_rx':key_words_regex,\n",
    "    'type_company_rx': type_company_regex\n",
    "}"
   ]
  },
  {
   "cell_type": "code",
   "execution_count": 34,
   "metadata": {},
   "outputs": [],
   "source": [
    "#saving json\n",
    "with open('regex_to_use.json', 'w') as fp:\n",
    "    json.dump(regex_to_use, fp)"
   ]
  },
  {
   "cell_type": "code",
   "execution_count": 35,
   "metadata": {},
   "outputs": [],
   "source": [
    "#loading json\n",
    "with open('regex_to_use.json', 'r') as fp:\n",
    "    regex_to_use = json.load(fp)"
   ]
  },
  {
   "cell_type": "markdown",
   "metadata": {},
   "source": [
    "<b> Other maps"
   ]
  },
  {
   "cell_type": "code",
   "execution_count": 36,
   "metadata": {},
   "outputs": [],
   "source": [
    "def splitter_json(data):\n",
    "    data[['TypeEnt','TypeEnt_number']] = data.Vendor_Code.str.split('-',expand=True)\n",
    "    data[['GCL','GCL_number']] = data.GL_Code.str.split('-',expand=True)\n",
    "    return data"
   ]
  },
  {
   "cell_type": "code",
   "execution_count": 37,
   "metadata": {},
   "outputs": [],
   "source": [
    "## just to get the json\n",
    "train_data = splitter_json(data = train_data).copy()\n",
    "train_data_json = splitter_json(data = train_data)"
   ]
  },
  {
   "cell_type": "code",
   "execution_count": 38,
   "metadata": {},
   "outputs": [],
   "source": [
    "def get_dictionary_rank1_tomap(data, variable):\n",
    "    tmp = data.groupby([variable,'Map_Product_Category'], as_index = False).agg(counts = ('Inv_Id','count'))\n",
    "    tmp[\"Rank\"] = tmp.groupby([variable])[\"counts\"].rank(\"dense\", ascending=False)\n",
    "    tmp = tmp[tmp.Rank == 1]\n",
    "    map_rank =  dict(tmp[[variable,'Map_Product_Category']].values)\n",
    "    return map_rank"
   ]
  },
  {
   "cell_type": "code",
   "execution_count": 39,
   "metadata": {},
   "outputs": [],
   "source": [
    "TypeEnt_number_maps = get_dictionary_rank1_tomap(data = train_data_json, variable = 'TypeEnt_number')\n",
    "del train_data_json"
   ]
  },
  {
   "cell_type": "code",
   "execution_count": 40,
   "metadata": {},
   "outputs": [],
   "source": [
    "#saving json\n",
    "with open('TypeEnt_number_maps.json', 'w') as fp:\n",
    "    json.dump(TypeEnt_number_maps, fp)"
   ]
  },
  {
   "cell_type": "code",
   "execution_count": 41,
   "metadata": {},
   "outputs": [],
   "source": [
    "#loading json\n",
    "with open('TypeEnt_number_maps.json', 'r') as fp:\n",
    "    TypeEnt_number_maps = json.load(fp)"
   ]
  },
  {
   "cell_type": "markdown",
   "metadata": {},
   "source": [
    "<b> Additional"
   ]
  },
  {
   "cell_type": "code",
   "execution_count": 42,
   "metadata": {},
   "outputs": [],
   "source": [
    "to_drop = ['Inv_Id','Vendor_Code','GL_Code', 'Item_Description']"
   ]
  },
  {
   "cell_type": "markdown",
   "metadata": {},
   "source": [
    "#### The pipeline"
   ]
  },
  {
   "cell_type": "code",
   "execution_count": 43,
   "metadata": {},
   "outputs": [],
   "source": [
    "feature_pipeline = Pipeline([\n",
    "    \n",
    "    ('NumberOfItemsInDescription_ready', ## clean not founds\n",
    "     get_items_in_description(variables = ['Item_Description'], new_variable_names = ['ItemsInDescription'])\n",
    "    ),\n",
    "    \n",
    "    ('GetKeyWord_prepro', ## needed to convert ordinal encoding and clean not founds\n",
    "     get_keywords_from_description(variables = ['Item_Description','Item_Description'], new_variable_names = ['KeyWords','CompanyFoundType']\n",
    "                                   , keywords = [regex_to_use['keywords_rx'], regex_to_use['type_company_rx']])\n",
    "    ),\n",
    "    \n",
    "    ('TimeDate_features', ## needed to convert ordinal encoding and clean not founds\n",
    "     get_date_features(variables = ['Item_Description'], date_regex = regex_to_use['dates_rx'],\n",
    "                       year_regex = regex_to_use['year_rx'], moth_regex = regex_to_use['month_rx'])\n",
    "    ),\n",
    "    \n",
    "    ('splitter',\n",
    "     splitter(variables = ['Vendor_Code','GL_Code'], new_variable_names = ['TypeEnt_number','GCL_number'])\n",
    "    ),\n",
    "    \n",
    "    ('cardinal-ordering',\n",
    "     OrdinalEncoder(encoding_method='ordered', variables=['GCL_number','KeyWords','CompanyFoundType'])\n",
    "    ),\n",
    "    \n",
    "    ('TypeEnt_number_map_modes', \n",
    "    Mapper(variables = ['TypeEnt_number'], mappings = TypeEnt_number_maps)\n",
    "    ),\n",
    "    \n",
    "    ('drop_features',\n",
    "     DropFeatures(features_to_drop= to_drop)\n",
    "    ),\n",
    "    \n",
    "    ('Fill_na',\n",
    "    Custom_Fillna(variables = ['TypeEnt_number','KeyWords','CompanyFoundType','YearFound','MonthFound'], fill_value = 0)\n",
    "    )\n",
    "])"
   ]
  },
  {
   "cell_type": "markdown",
   "metadata": {},
   "source": [
    "### Modeling using cross validation and hyper parameter tunning"
   ]
  },
  {
   "cell_type": "markdown",
   "metadata": {},
   "source": [
    "<b> general settings"
   ]
  },
  {
   "cell_type": "code",
   "execution_count": 46,
   "metadata": {},
   "outputs": [
    {
     "data": {
      "text/plain": [
       "Pipeline(steps=[('NumberOfItemsInDescription_ready',\n",
       "                 get_items_in_description(new_variable_names=['ItemsInDescription'],\n",
       "                                          variables=['Item_Description'])),\n",
       "                ('GetKeyWord_prepro',\n",
       "                 get_keywords_from_description(keywords=['Travel and '\n",
       "                                                         'Entertainment|Company '\n",
       "                                                         'Car|Corporate '\n",
       "                                                         'Services|Auto '\n",
       "                                                         'Leasing|General '\n",
       "                                                         'Contractor|Store '\n",
       "                                                         'Construction|Ground '\n",
       "                                                         'Transportation|B...\n",
       "                                  '1026': 34, '1027': 34, '1028': 8, '1030': 34,\n",
       "                                  '1031': 34, '1032': 34, '1033': 34,\n",
       "                                  '1034': 24, '1035': 28, '1036': 26,\n",
       "                                  '1037': 34, '1038': 34, ...},\n",
       "                        variables=['TypeEnt_number'])),\n",
       "                ('drop_features',\n",
       "                 DropFeatures(features_to_drop=['Inv_Id', 'Vendor_Code',\n",
       "                                                'GL_Code',\n",
       "                                                'Item_Description'])),\n",
       "                ('Fill_na',\n",
       "                 Custom_Fillna(fill_value=0,\n",
       "                               variables=['TypeEnt_number', 'KeyWords',\n",
       "                                          'CompanyFoundType', 'YearFound',\n",
       "                                          'MonthFound']))])"
      ]
     },
     "execution_count": 46,
     "metadata": {},
     "output_type": "execute_result"
    }
   ],
   "source": [
    "feature_pipeline.fit(X_train, y_train)"
   ]
  },
  {
   "cell_type": "code",
   "execution_count": 47,
   "metadata": {},
   "outputs": [],
   "source": [
    "X_train_feature = feature_pipeline.transform(X_train)"
   ]
  },
  {
   "cell_type": "markdown",
   "metadata": {},
   "source": [
    "<b> KNN"
   ]
  },
  {
   "cell_type": "code",
   "execution_count": 48,
   "metadata": {},
   "outputs": [],
   "source": [
    "def objective(trial):\n",
    "\n",
    "    knn_n_estimators = trial.suggest_int(\"knn_n_neigbors\", 1, 10, 1)\n",
    "    \n",
    "    model = KNeighborsClassifier(\n",
    "        n_neighbors = knn_n_estimators\n",
    "    )\n",
    "\n",
    "    score = cross_val_score(model, X_train_feature, y_train, cv=3)\n",
    "    accuracy = score.mean()\n",
    "    return accuracy"
   ]
  },
  {
   "cell_type": "code",
   "execution_count": 49,
   "metadata": {},
   "outputs": [
    {
     "name": "stderr",
     "output_type": "stream",
     "text": [
      "\u001b[32m[I 2022-10-21 16:49:43,683]\u001b[0m A new study created in memory with name: no-name-36b2ec12-e689-49e9-ad8d-685f91736151\u001b[0m\n",
      "\u001b[32m[I 2022-10-21 16:49:44,184]\u001b[0m Trial 0 finished with value: 0.6654116648521069 and parameters: {'knn_n_neigbors': 3}. Best is trial 0 with value: 0.6654116648521069.\u001b[0m\n",
      "\u001b[32m[I 2022-10-21 16:49:44,407]\u001b[0m Trial 1 finished with value: 0.6539230640790409 and parameters: {'knn_n_neigbors': 4}. Best is trial 0 with value: 0.6654116648521069.\u001b[0m\n",
      "\u001b[32m[I 2022-10-21 16:49:44,638]\u001b[0m Trial 2 finished with value: 0.6376782207376038 and parameters: {'knn_n_neigbors': 8}. Best is trial 0 with value: 0.6654116648521069.\u001b[0m\n",
      "\u001b[32m[I 2022-10-21 16:49:44,855]\u001b[0m Trial 3 finished with value: 0.6539230640790409 and parameters: {'knn_n_neigbors': 4}. Best is trial 0 with value: 0.6654116648521069.\u001b[0m\n",
      "\u001b[32m[I 2022-10-21 16:49:45,093]\u001b[0m Trial 4 finished with value: 0.6452070541040255 and parameters: {'knn_n_neigbors': 6}. Best is trial 0 with value: 0.6654116648521069.\u001b[0m\n"
     ]
    }
   ],
   "source": [
    "study = optuna.create_study(\n",
    "    direction=\"maximize\",\n",
    "    sampler=optuna.samplers.TPESampler(),\n",
    ")\n",
    "\n",
    "study.optimize(objective, n_trials=5)"
   ]
  },
  {
   "cell_type": "code",
   "execution_count": 50,
   "metadata": {},
   "outputs": [
    {
     "data": {
      "text/plain": [
       "{'knn_n_neigbors': 3}"
      ]
     },
     "execution_count": 50,
     "metadata": {},
     "output_type": "execute_result"
    }
   ],
   "source": [
    "study.best_params"
   ]
  },
  {
   "cell_type": "code",
   "execution_count": 51,
   "metadata": {},
   "outputs": [
    {
     "data": {
      "text/plain": [
       "0.6654116648521069"
      ]
     },
     "execution_count": 51,
     "metadata": {},
     "output_type": "execute_result"
    }
   ],
   "source": [
    "study.best_value"
   ]
  },
  {
   "cell_type": "markdown",
   "metadata": {},
   "source": [
    "<b> Gradient Boosting"
   ]
  },
  {
   "cell_type": "code",
   "execution_count": 55,
   "metadata": {},
   "outputs": [],
   "source": [
    "def objective(trial):\n",
    "\n",
    "    gbc_max_depth = trial.suggest_int(\"max_depth\", 3, 6, 1)\n",
    "    gbc_learning_rate = trial.suggest_float('learning_rate',  1e-6, 1e-2)\n",
    "    gbc_min_samples_split = trial.suggest_int(\"min_samples_split\", 3, 6, 1)\n",
    "    gbc_n_estimators = trial.suggest_int(\"n_estimators\", 200, 500, 50)\n",
    "    \n",
    "    model = GradientBoostingClassifier(\n",
    "        max_depth = gbc_max_depth,\n",
    "        learning_rate = gbc_learning_rate,\n",
    "        min_samples_split = gbc_min_samples_split,\n",
    "        n_estimators = gbc_n_estimators\n",
    "    )\n",
    "\n",
    "    score = cross_val_score(model, X_train_feature, y_train, cv=3)\n",
    "    accuracy = score.mean()\n",
    "    return accuracy"
   ]
  },
  {
   "cell_type": "code",
   "execution_count": 57,
   "metadata": {},
   "outputs": [],
   "source": [
    "study_name = \"study_gbc\"  # unique identifier of the study.\n",
    "storage_name = \"sqlite:///{}.db\".format(study_name)"
   ]
  },
  {
   "cell_type": "code",
   "execution_count": 59,
   "metadata": {},
   "outputs": [
    {
     "name": "stderr",
     "output_type": "stream",
     "text": [
      "\u001b[32m[I 2022-10-21 17:38:35,931]\u001b[0m Using an existing study with name 'study_gbc' instead of creating a new one.\u001b[0m\n",
      "\u001b[32m[I 2022-10-21 17:43:24,307]\u001b[0m Trial 0 finished with value: 0.983558392910005 and parameters: {'max_depth': 6, 'learning_rate': 0.0057047590643833366, 'min_samples_split': 6, 'n_estimators': 250}. Best is trial 0 with value: 0.983558392910005.\u001b[0m\n",
      "\u001b[32m[I 2022-10-21 17:48:09,511]\u001b[0m Trial 1 finished with value: 0.9827660390715577 and parameters: {'max_depth': 6, 'learning_rate': 0.005669058416860981, 'min_samples_split': 6, 'n_estimators': 250}. Best is trial 0 with value: 0.983558392910005.\u001b[0m\n",
      "\u001b[32m[I 2022-10-21 17:54:02,511]\u001b[0m Trial 2 finished with value: 0.9849449238132179 and parameters: {'max_depth': 6, 'learning_rate': 0.007647975058114602, 'min_samples_split': 5, 'n_estimators': 300}. Best is trial 2 with value: 0.9849449238132179.\u001b[0m\n",
      "\u001b[32m[I 2022-10-21 18:01:28,749]\u001b[0m Trial 3 finished with value: 0.9847468647916294 and parameters: {'max_depth': 4, 'learning_rate': 0.005719747567800133, 'min_samples_split': 3, 'n_estimators': 450}. Best is trial 2 with value: 0.9849449238132179.\u001b[0m\n",
      "\u001b[32m[I 2022-10-21 18:08:05,553]\u001b[0m Trial 4 finished with value: 0.6400557532613208 and parameters: {'max_depth': 3, 'learning_rate': 0.00023510240864991865, 'min_samples_split': 4, 'n_estimators': 450}. Best is trial 2 with value: 0.9849449238132179.\u001b[0m\n"
     ]
    }
   ],
   "source": [
    "study = optuna.create_study(\n",
    "    direction='maximize',\n",
    "    sampler=optuna.samplers.TPESampler(),\n",
    "    study_name=study_name,\n",
    "    storage=storage_name,\n",
    "    load_if_exists=True,\n",
    ")\n",
    "\n",
    "study.optimize(objective, n_trials=5)"
   ]
  },
  {
   "cell_type": "code",
   "execution_count": 60,
   "metadata": {},
   "outputs": [
    {
     "data": {
      "text/plain": [
       "{'learning_rate': 0.007647975058114602,\n",
       " 'max_depth': 6,\n",
       " 'min_samples_split': 5,\n",
       " 'n_estimators': 300}"
      ]
     },
     "execution_count": 60,
     "metadata": {},
     "output_type": "execute_result"
    }
   ],
   "source": [
    "study.best_params"
   ]
  },
  {
   "cell_type": "code",
   "execution_count": 61,
   "metadata": {},
   "outputs": [
    {
     "data": {
      "image/png": "[encoded data removed]",
      "text/plain": [
       "<Figure size 432x288 with 1 Axes>"
      ]
     },
     "metadata": {},
     "output_type": "display_data"
    }
   ],
   "source": [
    "fig = optuna.visualization.matplotlib.plot_optimization_history(study)"
   ]
  },
  {
   "cell_type": "code",
   "execution_count": 62,
   "metadata": {},
   "outputs": [
    {
     "name": "stderr",
     "output_type": "stream",
     "text": [
      "\u001b[33m[W 2022-10-21 18:19:32,115]\u001b[0m Output figures of this Matplotlib-based `plot_contour` function would be different from those of the Plotly-based `plot_contour`.\u001b[0m\n"
     ]
    },
    {
     "data": {
      "text/plain": [
       "array([[<matplotlib.axes._subplots.AxesSubplot object at 0x000001906220F9C8>,\n",
       "        <matplotlib.axes._subplots.AxesSubplot object at 0x00000190624F9508>,\n",
       "        <matplotlib.axes._subplots.AxesSubplot object at 0x0000019062167F88>,\n",
       "        <matplotlib.axes._subplots.AxesSubplot object at 0x000001906211DA48>],\n",
       "       [<matplotlib.axes._subplots.AxesSubplot object at 0x0000019062025508>,\n",
       "        <matplotlib.axes._subplots.AxesSubplot object at 0x00000190623793C8>,\n",
       "        <matplotlib.axes._subplots.AxesSubplot object at 0x0000019062304488>,\n",
       "        <matplotlib.axes._subplots.AxesSubplot object at 0x00000190621A3708>],\n",
       "       [<matplotlib.axes._subplots.AxesSubplot object at 0x00000190620EB948>,\n",
       "        <matplotlib.axes._subplots.AxesSubplot object at 0x000001906247DC48>,\n",
       "        <matplotlib.axes._subplots.AxesSubplot object at 0x0000019062576E48>,\n",
       "        <matplotlib.axes._subplots.AxesSubplot object at 0x0000019062511F08>],\n",
       "       [<matplotlib.axes._subplots.AxesSubplot object at 0x00000190625C2188>,\n",
       "        <matplotlib.axes._subplots.AxesSubplot object at 0x0000019062232388>,\n",
       "        <matplotlib.axes._subplots.AxesSubplot object at 0x000001906234BAC8>,\n",
       "        <matplotlib.axes._subplots.AxesSubplot object at 0x000001906231B7C8>]],\n",
       "      dtype=object)"
      ]
     },
     "execution_count": 62,
     "metadata": {},
     "output_type": "execute_result"
    },
    {
     "data": {
      "image/png": "[encoded data removed]",
      "text/plain": [
       "<Figure size 432x288 with 17 Axes>"
      ]
     },
     "metadata": {},
     "output_type": "display_data"
    }
   ],
   "source": [
    "optuna.visualization.matplotlib.plot_contour(\n",
    "    study,\n",
    "    params=[\"max_depth\", \"learning_rate\", \"min_samples_split\", 'n_estimators'],\n",
    ")"
   ]
  },
  {
   "cell_type": "code",
   "execution_count": 63,
   "metadata": {},
   "outputs": [
    {
     "data": {
      "text/plain": [
       "array([<matplotlib.axes._subplots.AxesSubplot object at 0x0000019064A3E848>,\n",
       "       <matplotlib.axes._subplots.AxesSubplot object at 0x0000019064AA3988>,\n",
       "       <matplotlib.axes._subplots.AxesSubplot object at 0x0000019064AE12C8>,\n",
       "       <matplotlib.axes._subplots.AxesSubplot object at 0x0000019064B08B88>],\n",
       "      dtype=object)"
      ]
     },
     "execution_count": 63,
     "metadata": {},
     "output_type": "execute_result"
    },
    {
     "data": {
      "image/png": "[encoded data removed]",
      "text/plain": [
       "<Figure size 864x288 with 5 Axes>"
      ]
     },
     "metadata": {},
     "output_type": "display_data"
    }
   ],
   "source": [
    "optuna.visualization.matplotlib.plot_slice(\n",
    "    study,\n",
    "    params=[\"max_depth\", \"learning_rate\", \"min_samples_split\", 'n_estimators'],\n",
    ")"
   ]
  },
  {
   "cell_type": "code",
   "execution_count": 64,
   "metadata": {},
   "outputs": [
    {
     "data": {
      "text/plain": [
       "<matplotlib.axes._subplots.AxesSubplot at 0x19064c2db88>"
      ]
     },
     "execution_count": 64,
     "metadata": {},
     "output_type": "execute_result"
    },
    {
     "data": {
      "image/png": "[encoded data removed]",
      "text/plain": [
       "<Figure size 432x288 with 1 Axes>"
      ]
     },
     "metadata": {},
     "output_type": "display_data"
    }
   ],
   "source": [
    "optuna.visualization.matplotlib.plot_param_importances(study)"
   ]
  },
  {
   "cell_type": "code",
   "execution_count": 65,
   "metadata": {},
   "outputs": [
    {
     "data": {
      "text/plain": [
       "<matplotlib.axes._subplots.AxesSubplot at 0x19064caabc8>"
      ]
     },
     "execution_count": 65,
     "metadata": {},
     "output_type": "execute_result"
    },
    {
     "data": {
      "image/png": "[encoded data removed]",
      "text/plain": [
       "<Figure size 432x288 with 1 Axes>"
      ]
     },
     "metadata": {},
     "output_type": "display_data"
    }
   ],
   "source": [
    "optuna.visualization.matplotlib.plot_edf([study])"
   ]
  },
  {
   "cell_type": "markdown",
   "metadata": {},
   "source": [
    "#### Validation and model performance assessment"
   ]
  },
  {
   "cell_type": "code",
   "execution_count": 66,
   "metadata": {},
   "outputs": [],
   "source": [
    "Labels = [map_target[key] for key in map_target.keys()]"
   ]
  },
  {
   "cell_type": "markdown",
   "metadata": {},
   "source": [
    "<b> Knn"
   ]
  },
  {
   "cell_type": "code",
   "execution_count": 67,
   "metadata": {},
   "outputs": [],
   "source": [
    "knn_parameters = {'n_neighbors':3}"
   ]
  },
  {
   "cell_type": "code",
   "execution_count": 68,
   "metadata": {},
   "outputs": [],
   "source": [
    "knn_pipeline = make_pipeline(*feature_pipeline, OneVsRestClassifier(BaggingClassifier(KNeighborsClassifier(**knn_parameters), max_samples = 0.3)))"
   ]
  },
  {
   "cell_type": "code",
   "execution_count": 69,
   "metadata": {},
   "outputs": [
    {
     "data": {
      "text/plain": [
       "Pipeline(steps=[('get_items_in_description',\n",
       "                 get_items_in_description(new_variable_names=['ItemsInDescription'],\n",
       "                                          variables=['Item_Description'])),\n",
       "                ('get_keywords_from_description',\n",
       "                 get_keywords_from_description(keywords=['Travel and '\n",
       "                                                         'Entertainment|Company '\n",
       "                                                         'Car|Corporate '\n",
       "                                                         'Services|Auto '\n",
       "                                                         'Leasing|General '\n",
       "                                                         'Contractor|Store '\n",
       "                                                         'Construction|Ground '\n",
       "                                                         'Transportati...\n",
       "                 DropFeatures(features_to_drop=['Inv_Id', 'Vendor_Code',\n",
       "                                                'GL_Code',\n",
       "                                                'Item_Description'])),\n",
       "                ('custom_fillna',\n",
       "                 Custom_Fillna(fill_value=0,\n",
       "                               variables=['TypeEnt_number', 'KeyWords',\n",
       "                                          'CompanyFoundType', 'YearFound',\n",
       "                                          'MonthFound'])),\n",
       "                ('onevsrestclassifier',\n",
       "                 OneVsRestClassifier(estimator=BaggingClassifier(base_estimator=KNeighborsClassifier(n_neighbors=3),\n",
       "                                                                 max_samples=0.3)))])"
      ]
     },
     "execution_count": 69,
     "metadata": {},
     "output_type": "execute_result"
    }
   ],
   "source": [
    "knn_pipeline.fit(X_train, y_train)"
   ]
  },
  {
   "cell_type": "code",
   "execution_count": 70,
   "metadata": {},
   "outputs": [],
   "source": [
    "y_val_pred = knn_pipeline.predict(X_val)"
   ]
  },
  {
   "cell_type": "code",
   "execution_count": 71,
   "metadata": {},
   "outputs": [],
   "source": [
    "data_contrast = {\n",
    "    'True': y_val,\n",
    "    'Prediction': y_val_pred\n",
    "}\n",
    "data_contrast = pd.DataFrame(data_contrast).reset_index(drop = True).reset_index()"
   ]
  },
  {
   "cell_type": "code",
   "execution_count": 72,
   "metadata": {},
   "outputs": [],
   "source": [
    "confusion_matrix = data_contrast.pivot_table(index = 'True', columns = 'Prediction', aggfunc = 'count', values= 'index').fillna(0)"
   ]
  },
  {
   "cell_type": "code",
   "execution_count": 73,
   "metadata": {},
   "outputs": [
    {
     "data": {
      "image/png": "[encoded data removed]",
      "text/plain": [
       "<Figure size 842.4x595.44 with 2 Axes>"
      ]
     },
     "metadata": {},
     "output_type": "display_data"
    }
   ],
   "source": [
    "sns.set(rc={'figure.figsize':(11.7,8.27)})\n",
    "ax = sns.heatmap(confusion_matrix)"
   ]
  },
  {
   "cell_type": "markdown",
   "metadata": {},
   "source": [
    "<b> Gradient boosting "
   ]
  },
  {
   "cell_type": "code",
   "execution_count": 74,
   "metadata": {},
   "outputs": [],
   "source": [
    "gbc_parameters = {'learning_rate': 0.007647975058114602,\n",
    " 'max_depth': 6,\n",
    " 'min_samples_split': 5,\n",
    " 'n_estimators': 300}"
   ]
  },
  {
   "cell_type": "code",
   "execution_count": 75,
   "metadata": {},
   "outputs": [],
   "source": [
    "gbc_pipeline = make_pipeline(*feature_pipeline, OneVsRestClassifier(GradientBoostingClassifier(**gbc_parameters)) )"
   ]
  },
  {
   "cell_type": "code",
   "execution_count": 76,
   "metadata": {},
   "outputs": [
    {
     "data": {
      "text/plain": [
       "Pipeline(steps=[('get_items_in_description',\n",
       "                 get_items_in_description(new_variable_names=['ItemsInDescription'],\n",
       "                                          variables=['Item_Description'])),\n",
       "                ('get_keywords_from_description',\n",
       "                 get_keywords_from_description(keywords=['Travel and '\n",
       "                                                         'Entertainment|Company '\n",
       "                                                         'Car|Corporate '\n",
       "                                                         'Services|Auto '\n",
       "                                                         'Leasing|General '\n",
       "                                                         'Contractor|Store '\n",
       "                                                         'Construction|Ground '\n",
       "                                                         'Transportati...\n",
       "                 DropFeatures(features_to_drop=['Inv_Id', 'Vendor_Code',\n",
       "                                                'GL_Code',\n",
       "                                                'Item_Description'])),\n",
       "                ('custom_fillna',\n",
       "                 Custom_Fillna(fill_value=0,\n",
       "                               variables=['TypeEnt_number', 'KeyWords',\n",
       "                                          'CompanyFoundType', 'YearFound',\n",
       "                                          'MonthFound'])),\n",
       "                ('onevsrestclassifier',\n",
       "                 OneVsRestClassifier(estimator=GradientBoostingClassifier(learning_rate=0.007647975058114602,\n",
       "                                                                          max_depth=6,\n",
       "                                                                          min_samples_split=5,\n",
       "                                                                          n_estimators=300)))])"
      ]
     },
     "execution_count": 76,
     "metadata": {},
     "output_type": "execute_result"
    }
   ],
   "source": [
    "gbc_pipeline.fit(X_train, y_train)"
   ]
  },
  {
   "cell_type": "code",
   "execution_count": 77,
   "metadata": {},
   "outputs": [],
   "source": [
    "y_val_pred = gbc_pipeline.predict(X_val)"
   ]
  },
  {
   "cell_type": "code",
   "execution_count": 78,
   "metadata": {},
   "outputs": [],
   "source": [
    "data_contrast = {\n",
    "    'True': y_val,\n",
    "    'Prediction': y_val_pred\n",
    "}\n",
    "data_contrast = pd.DataFrame(data_contrast).reset_index(drop = True).reset_index()"
   ]
  },
  {
   "cell_type": "code",
   "execution_count": 79,
   "metadata": {},
   "outputs": [],
   "source": [
    "confusion_matrix = data_contrast.pivot_table(index = 'True', columns = 'Prediction', aggfunc = 'count', values= 'index').fillna(0)"
   ]
  },
  {
   "cell_type": "code",
   "execution_count": 80,
   "metadata": {},
   "outputs": [
    {
     "data": {
      "image/png": "[encoded data removed]",
      "text/plain": [
       "<Figure size 842.4x595.44 with 2 Axes>"
      ]
     },
     "metadata": {},
     "output_type": "display_data"
    }
   ],
   "source": [
    "sns.set(rc={'figure.figsize':(11.7,8.27)})\n",
    "ax = sns.heatmap(confusion_matrix)"
   ]
  },
  {
   "cell_type": "code",
   "execution_count": 81,
   "metadata": {},
   "outputs": [],
   "source": [
    "gbc_probas = gbc_pipeline.predict_proba(X_val)\n",
    "knn_probas = knn_pipeline.predict_proba(X_val)\n",
    "\n",
    "gbc_roc_ = round(roc_auc_score(y_val, gbc_probas, multi_class='ovo', labels = Labels),4)\n",
    "knn_roc_ = round(roc_auc_score(y_val, knn_probas, multi_class='ovo', labels = Labels),4)"
   ]
  },
  {
   "cell_type": "code",
   "execution_count": 82,
   "metadata": {},
   "outputs": [
    {
     "name": "stdout",
     "output_type": "stream",
     "text": [
      "the roc_auc score are: knn 0.854 and gbc 0.996\n"
     ]
    }
   ],
   "source": [
    "print(f'the roc_auc score are: knn {knn_roc_} and gbc {gbc_roc_}')"
   ]
  },
  {
   "cell_type": "markdown",
   "metadata": {},
   "source": [
    "* the winner is the gradient boosing classifier"
   ]
  },
  {
   "cell_type": "markdown",
   "metadata": {},
   "source": [
    "### Final Pipeline"
   ]
  },
  {
   "cell_type": "code",
   "execution_count": 93,
   "metadata": {},
   "outputs": [],
   "source": [
    "gbc_parameters = {\n",
    "    'learning_rate': 0.007647975058114602,\n",
    "    'max_depth': 6,\n",
    "    'min_samples_split': 5,\n",
    "    'n_estimators': 300,\n",
    "    'random_state':seed,\n",
    "}"
   ]
  },
  {
   "cell_type": "code",
   "execution_count": 94,
   "metadata": {},
   "outputs": [],
   "source": [
    "#saving json\n",
    "with open('gbc_parameters.json', 'w') as fp:\n",
    "    json.dump(gbc_parameters, fp)"
   ]
  },
  {
   "cell_type": "code",
   "execution_count": 95,
   "metadata": {},
   "outputs": [],
   "source": [
    "#loading json\n",
    "with open('gbc_parameters.json', 'r') as fp:\n",
    "    gbc_parameters = json.load(fp)"
   ]
  },
  {
   "cell_type": "code",
   "execution_count": 96,
   "metadata": {},
   "outputs": [],
   "source": [
    "category_prediction_pipeline = make_pipeline(\n",
    "    *feature_pipeline,\n",
    "    OneVsRestClassifier(GradientBoostingClassifier(**gbc_parameters))\n",
    ")"
   ]
  },
  {
   "cell_type": "code",
   "execution_count": 97,
   "metadata": {},
   "outputs": [
    {
     "data": {
      "text/plain": [
       "Pipeline(steps=[('get_items_in_description',\n",
       "                 get_items_in_description(new_variable_names=['ItemsInDescription'],\n",
       "                                          variables=['Item_Description'])),\n",
       "                ('get_keywords_from_description',\n",
       "                 get_keywords_from_description(keywords=['Travel and '\n",
       "                                                         'Entertainment|Company '\n",
       "                                                         'Car|Corporate '\n",
       "                                                         'Services|Auto '\n",
       "                                                         'Leasing|General '\n",
       "                                                         'Contractor|Store '\n",
       "                                                         'Construction|Ground '\n",
       "                                                         'Transportati...\n",
       "                 DropFeatures(features_to_drop=['Inv_Id', 'Vendor_Code',\n",
       "                                                'GL_Code',\n",
       "                                                'Item_Description'])),\n",
       "                ('custom_fillna',\n",
       "                 Custom_Fillna(fill_value=0,\n",
       "                               variables=['TypeEnt_number', 'KeyWords',\n",
       "                                          'CompanyFoundType', 'YearFound',\n",
       "                                          'MonthFound'])),\n",
       "                ('onevsrestclassifier',\n",
       "                 OneVsRestClassifier(estimator=GradientBoostingClassifier(learning_rate=0.007647975058114602,\n",
       "                                                                          max_depth=6,\n",
       "                                                                          min_samples_split=5,\n",
       "                                                                          n_estimators=300,\n",
       "                                                                          random_state=12)))])"
      ]
     },
     "execution_count": 97,
     "metadata": {},
     "output_type": "execute_result"
    }
   ],
   "source": [
    "category_prediction_pipeline.fit(X_train, y_train)"
   ]
  },
  {
   "cell_type": "markdown",
   "metadata": {},
   "source": [
    "<b> test data"
   ]
  },
  {
   "cell_type": "code",
   "execution_count": 98,
   "metadata": {},
   "outputs": [],
   "source": [
    "X_test = test_data[initial_features]"
   ]
  },
  {
   "cell_type": "code",
   "execution_count": 99,
   "metadata": {},
   "outputs": [],
   "source": [
    "y_test_pred = category_prediction_pipeline.predict(X_test)"
   ]
  },
  {
   "cell_type": "code",
   "execution_count": 100,
   "metadata": {},
   "outputs": [
    {
     "data": {
      "text/plain": [
       "(2446,)"
      ]
     },
     "execution_count": 100,
     "metadata": {},
     "output_type": "execute_result"
    }
   ],
   "source": [
    "y_test_pred.shape"
   ]
  },
  {
   "cell_type": "code",
   "execution_count": 101,
   "metadata": {},
   "outputs": [],
   "source": [
    "X_test['yhat'] = y_test_pred"
   ]
  },
  {
   "cell_type": "code",
   "execution_count": 102,
   "metadata": {},
   "outputs": [
    {
     "data": {
      "text/html": [
       "<div>\n",
       "<style scoped>\n",
       "    .dataframe tbody tr th:only-of-type {\n",
       "        vertical-align: middle;\n",
       "    }\n",
       "\n",
       "    .dataframe tbody tr th {\n",
       "        vertical-align: top;\n",
       "    }\n",
       "\n",
       "    .dataframe thead th {\n",
       "        text-align: right;\n",
       "    }\n",
       "</style>\n",
       "<table border=\"1\" class=\"dataframe\">\n",
       "  <thead>\n",
       "    <tr style=\"text-align: right;\">\n",
       "      <th></th>\n",
       "      <th>Inv_Id</th>\n",
       "      <th>Vendor_Code</th>\n",
       "      <th>GL_Code</th>\n",
       "      <th>Inv_Amt</th>\n",
       "      <th>Item_Description</th>\n",
       "      <th>yhat</th>\n",
       "    </tr>\n",
       "  </thead>\n",
       "  <tbody>\n",
       "    <tr>\n",
       "      <th>0</th>\n",
       "      <td>15003</td>\n",
       "      <td>VENDOR-2513</td>\n",
       "      <td>GL-6050310</td>\n",
       "      <td>56.13</td>\n",
       "      <td>Travel and Entertainment Miscellaneous Company...</td>\n",
       "      <td>35</td>\n",
       "    </tr>\n",
       "    <tr>\n",
       "      <th>1</th>\n",
       "      <td>15008</td>\n",
       "      <td>VENDOR-1044</td>\n",
       "      <td>GL-6101400</td>\n",
       "      <td>96.56</td>\n",
       "      <td>Final Site Clean Up Store Construction Advance...</td>\n",
       "      <td>33</td>\n",
       "    </tr>\n",
       "    <tr>\n",
       "      <th>2</th>\n",
       "      <td>15013</td>\n",
       "      <td>VENDOR-1254</td>\n",
       "      <td>GL-6101400</td>\n",
       "      <td>55.93</td>\n",
       "      <td>Arabian American Development Co Final Site Cle...</td>\n",
       "      <td>33</td>\n",
       "    </tr>\n",
       "    <tr>\n",
       "      <th>3</th>\n",
       "      <td>15019</td>\n",
       "      <td>VENDOR-1331</td>\n",
       "      <td>GL-2182000</td>\n",
       "      <td>32.62</td>\n",
       "      <td>Corporate Services Contingent Labor/Temp Labor...</td>\n",
       "      <td>31</td>\n",
       "    </tr>\n",
       "    <tr>\n",
       "      <th>4</th>\n",
       "      <td>15020</td>\n",
       "      <td>VENDOR-2513</td>\n",
       "      <td>GL-6050310</td>\n",
       "      <td>25.81</td>\n",
       "      <td>Fortune National Corp Miscellaneous Company Ca...</td>\n",
       "      <td>35</td>\n",
       "    </tr>\n",
       "  </tbody>\n",
       "</table>\n",
       "</div>"
      ],
      "text/plain": [
       "   Inv_Id  Vendor_Code     GL_Code  Inv_Amt  \\\n",
       "0   15003  VENDOR-2513  GL-6050310    56.13   \n",
       "1   15008  VENDOR-1044  GL-6101400    96.56   \n",
       "2   15013  VENDOR-1254  GL-6101400    55.93   \n",
       "3   15019  VENDOR-1331  GL-2182000    32.62   \n",
       "4   15020  VENDOR-2513  GL-6050310    25.81   \n",
       "\n",
       "                                    Item_Description  yhat  \n",
       "0  Travel and Entertainment Miscellaneous Company...    35  \n",
       "1  Final Site Clean Up Store Construction Advance...    33  \n",
       "2  Arabian American Development Co Final Site Cle...    33  \n",
       "3  Corporate Services Contingent Labor/Temp Labor...    31  \n",
       "4  Fortune National Corp Miscellaneous Company Ca...    35  "
      ]
     },
     "execution_count": 102,
     "metadata": {},
     "output_type": "execute_result"
    }
   ],
   "source": [
    "X_test.head()"
   ]
  },
  {
   "cell_type": "markdown",
   "metadata": {},
   "source": [
    "## saving machine"
   ]
  },
  {
   "cell_type": "code",
   "execution_count": 103,
   "metadata": {},
   "outputs": [],
   "source": [
    "#joblib.dump(category_prediction_pipeline, 'category_prediction_pipeline.joblib') "
   ]
  }
 ],
 "metadata": {
  "kernelspec": {
   "display_name": "Python 3",
   "language": "python",
   "name": "python3"
  },
  "language_info": {
   "codemirror_mode": {
    "name": "ipython",
    "version": 3
   },
   "file_extension": ".py",
   "mimetype": "text/x-python",
   "name": "python",
   "nbconvert_exporter": "python",
   "pygments_lexer": "ipython3",
   "version": "3.7.6"
  }
 },
 "nbformat": 4,
 "nbformat_minor": 4
}
